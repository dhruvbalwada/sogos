{
 "cells": [
  {
   "cell_type": "markdown",
   "metadata": {},
   "source": [
    "# Glider Data\n",
    "\n",
    "Explore glider dive data "
   ]
  },
  {
   "cell_type": "code",
   "execution_count": 1,
   "metadata": {},
   "outputs": [],
   "source": [
    "from scipy.io import loadmat\n",
    "import numpy as np\n",
    "import xarray as xr"
   ]
  },
  {
   "cell_type": "code",
   "execution_count": 2,
   "metadata": {},
   "outputs": [],
   "source": [
    "data_659 = '/Users/dhruvbalwada/work_root/sogos/data/interim/gliders/sg659/CTD_659.nc'\n",
    "data_660 = '/Users/dhruvbalwada/work_root/sogos/data/interim/gliders/sg660/sg660_dives_20200413.mat'"
   ]
  },
  {
   "cell_type": "code",
   "execution_count": 3,
   "metadata": {},
   "outputs": [],
   "source": [
    "ds_659 = xr.load_dataset(data_659)"
   ]
  },
  {
   "cell_type": "code",
   "execution_count": 6,
   "metadata": {},
   "outputs": [
    {
     "data": {
      "text/plain": [
       "<xarray.Dataset>\n",
       "Dimensions:      (ctd_data_point: 1363330)\n",
       "Dimensions without coordinates: ctd_data_point\n",
       "Data variables:\n",
       "    pressure     (ctd_data_point) float64 nan nan nan nan ... 1.165 1.037 nan\n",
       "    latitude     (ctd_data_point) float64 -51.51 -51.51 -51.51 ... -51.7 -51.7\n",
       "    longitude    (ctd_data_point) float64 30.03 30.03 30.03 ... 38.99 38.99\n",
       "    temperature  (ctd_data_point) float64 3.564 3.561 3.56 ... 1.812 1.811 1.814\n",
       "    salinity     (ctd_data_point) float64 nan nan nan nan ... 33.89 33.89 nan\n",
       "    dives        (ctd_data_point) float64 1.0 1.0 1.0 1.0 ... 462.5 462.5 462.5\n",
       "    time         (ctd_data_point) datetime64[ns] 2019-04-30T13:20:51.230003456 ... 2019-07-26T01:58:44.700995328"
      ]
     },
     "execution_count": 6,
     "metadata": {},
     "output_type": "execute_result"
    }
   ],
   "source": [
    "ds_659"
   ]
  },
  {
   "cell_type": "code",
   "execution_count": 7,
   "metadata": {},
   "outputs": [
    {
     "data": {
      "text/plain": [
       "<xarray.DataArray 'time' ()>\n",
       "array('2019-04-30T13:20:51.230003456', dtype='datetime64[ns]')\n",
       "Attributes:\n",
       "    standard_name:  Time"
      ]
     },
     "execution_count": 7,
     "metadata": {},
     "output_type": "execute_result"
    }
   ],
   "source": [
    "ds_659.time[0]"
   ]
  },
  {
   "cell_type": "code",
   "execution_count": null,
   "metadata": {},
   "outputs": [],
   "source": []
  }
 ],
 "metadata": {
  "kernelspec": {
   "display_name": "Python [conda env:sogos]",
   "language": "python",
   "name": "conda-env-sogos-py"
  },
  "language_info": {
   "codemirror_mode": {
    "name": "ipython",
    "version": 3
   },
   "file_extension": ".py",
   "mimetype": "text/x-python",
   "name": "python",
   "nbconvert_exporter": "python",
   "pygments_lexer": "ipython3",
   "version": "3.7.3"
  }
 },
 "nbformat": 4,
 "nbformat_minor": 4
}
