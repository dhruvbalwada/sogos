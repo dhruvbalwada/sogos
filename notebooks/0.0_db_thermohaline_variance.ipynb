{
 "cells": [
  {
   "cell_type": "markdown",
   "metadata": {},
   "source": [
    "## What is the vertical dependence of the thermohaline intrusions"
   ]
  },
  {
   "cell_type": "code",
   "execution_count": 1,
   "metadata": {},
   "outputs": [],
   "source": [
    "import numpy as np\n",
    "from numpy.ma import masked_values as maval\n",
    "import gsw\n",
    "import xarray as xr\n",
    "import pandas as pd\n",
    "import os.path as op\n",
    "from datetime import datetime, timedelta\n",
    "from scipy.interpolate import PchipInterpolator as pchip\n",
    "from scipy.signal import medfilt\n",
    "import dask.array as dsar\n",
    "import cartopy.crs as ccrs\n",
    "import cartopy.feature as cfeature\n",
    "from matplotlib import cm\n",
    "import matplotlib.colors as clr\n",
    "import matplotlib.ticker as tick\n",
    "import matplotlib.path as mpath\n",
    "import matplotlib.pyplot as plt\n",
    "\n",
    "%matplotlib inline"
   ]
  },
  {
   "cell_type": "code",
   "execution_count": 2,
   "metadata": {},
   "outputs": [],
   "source": [
    "import cmocean as cmocean\n",
    "import os"
   ]
  },
  {
   "cell_type": "code",
   "execution_count": 3,
   "metadata": {},
   "outputs": [],
   "source": [
    "SOCCOM_flt_ids = [12888]"
   ]
  },
  {
   "cell_type": "code",
   "execution_count": 4,
   "metadata": {},
   "outputs": [],
   "source": [
    "# Load Float Data\n",
    "HRdir = \"/Users/dhruvbalwada/work_root/sogos/data/raw/SOCCOM/manual_download/SOCCOM_HRQC_LIAR_netcdf_20191201/\"\n",
    "LRdir = \"/Users/dhruvbalwada/work_root/sogos/data/raw/SOCCOM/manual_download/SOCCOM_LRQC_LIAR_netcdf_20191201/\"\n",
    "\n",
    "float_dic_HR = {}\n",
    "float_dic_LR = {}\n",
    "\n",
    "for i in SOCCOM_flt_ids:\n",
    "    float_dic_HR[i] = xr.open_dataset(HRdir + str(i) + \"SOOCN_HRQC.nc\")\n",
    "    float_dic_LR[i] = xr.open_dataset(LRdir + str(i) + \"SOOCNQC.nc\")"
   ]
  },
  {
   "cell_type": "code",
   "execution_count": null,
   "metadata": {},
   "outputs": [],
   "source": []
  }
 ],
 "metadata": {
  "kernelspec": {
   "display_name": "Python [conda env:sogos]",
   "language": "python",
   "name": "conda-env-sogos-py"
  },
  "language_info": {
   "codemirror_mode": {
    "name": "ipython",
    "version": 3
   },
   "file_extension": ".py",
   "mimetype": "text/x-python",
   "name": "python",
   "nbconvert_exporter": "python",
   "pygments_lexer": "ipython3",
   "version": "3.7.3"
  }
 },
 "nbformat": 4,
 "nbformat_minor": 4
}
