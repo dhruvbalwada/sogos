{
 "cells": [
  {
   "cell_type": "markdown",
   "metadata": {},
   "source": [
    "## Introduction Plot \n",
    "\n",
    "The aim of this plot is to show: \n",
    "- the region being sampled, topography etc\n",
    "- glider tracks \n",
    "- Sampling rates in the vertical and horizontal "
   ]
  },
  {
   "cell_type": "code",
   "execution_count": 1,
   "metadata": {},
   "outputs": [],
   "source": [
    "from scipy.io import loadmat\n",
    "import numpy as np\n",
    "import xarray as xr\n",
    "\n",
    "import glidertools as gt\n",
    "import matplotlib.pylab as plt\n",
    "from matplotlib.colors import BoundaryNorm\n",
    "\n",
    "from cmocean import cm as cmo\n",
    "\n",
    "import gsw"
   ]
  },
  {
   "cell_type": "code",
   "execution_count": 2,
   "metadata": {},
   "outputs": [],
   "source": [
    "plt.style.use('seaborn-colorblind')\n",
    "plt.rcParams['font.size'] = 12"
   ]
  },
  {
   "cell_type": "code",
   "execution_count": 3,
   "metadata": {},
   "outputs": [],
   "source": [
    "data_dir = '/Users/dhruvbalwada/OneDrive/sogos_data'\n",
    "data_659 = data_dir+'/data/interim/gliders/sg659/CTD_659.nc'\n",
    "data_660 = data_dir+'/data/interim/gliders/sg660/CTD_660.nc'\n",
    "\n",
    "ds_659 = xr.load_dataset(data_659)\n",
    "ds_660 = xr.load_dataset(data_660)"
   ]
  },
  {
   "cell_type": "code",
   "execution_count": 26,
   "metadata": {},
   "outputs": [
    {
     "data": {
      "text/html": [
       "<div><svg style=\"position: absolute; width: 0; height: 0; overflow: hidden\">\n",
       "<defs>\n",
       "<symbol id=\"icon-database\" viewBox=\"0 0 32 32\">\n",
       "<path d=\"M16 0c-8.837 0-16 2.239-16 5v4c0 2.761 7.163 5 16 5s16-2.239 16-5v-4c0-2.761-7.163-5-16-5z\"></path>\n",
       "<path d=\"M16 17c-8.837 0-16-2.239-16-5v6c0 2.761 7.163 5 16 5s16-2.239 16-5v-6c0 2.761-7.163 5-16 5z\"></path>\n",
       "<path d=\"M16 26c-8.837 0-16-2.239-16-5v6c0 2.761 7.163 5 16 5s16-2.239 16-5v-6c0 2.761-7.163 5-16 5z\"></path>\n",
       "</symbol>\n",
       "<symbol id=\"icon-file-text2\" viewBox=\"0 0 32 32\">\n",
       "<path d=\"M28.681 7.159c-0.694-0.947-1.662-2.053-2.724-3.116s-2.169-2.030-3.116-2.724c-1.612-1.182-2.393-1.319-2.841-1.319h-15.5c-1.378 0-2.5 1.121-2.5 2.5v27c0 1.378 1.122 2.5 2.5 2.5h23c1.378 0 2.5-1.122 2.5-2.5v-19.5c0-0.448-0.137-1.23-1.319-2.841zM24.543 5.457c0.959 0.959 1.712 1.825 2.268 2.543h-4.811v-4.811c0.718 0.556 1.584 1.309 2.543 2.268zM28 29.5c0 0.271-0.229 0.5-0.5 0.5h-23c-0.271 0-0.5-0.229-0.5-0.5v-27c0-0.271 0.229-0.5 0.5-0.5 0 0 15.499-0 15.5 0v7c0 0.552 0.448 1 1 1h7v19.5z\"></path>\n",
       "<path d=\"M23 26h-14c-0.552 0-1-0.448-1-1s0.448-1 1-1h14c0.552 0 1 0.448 1 1s-0.448 1-1 1z\"></path>\n",
       "<path d=\"M23 22h-14c-0.552 0-1-0.448-1-1s0.448-1 1-1h14c0.552 0 1 0.448 1 1s-0.448 1-1 1z\"></path>\n",
       "<path d=\"M23 18h-14c-0.552 0-1-0.448-1-1s0.448-1 1-1h14c0.552 0 1 0.448 1 1s-0.448 1-1 1z\"></path>\n",
       "</symbol>\n",
       "</defs>\n",
       "</svg>\n",
       "<style>/* CSS stylesheet for displaying xarray objects in jupyterlab.\n",
       " *\n",
       " */\n",
       "\n",
       ":root {\n",
       "  --xr-font-color0: var(--jp-content-font-color0, rgba(0, 0, 0, 1));\n",
       "  --xr-font-color2: var(--jp-content-font-color2, rgba(0, 0, 0, 0.54));\n",
       "  --xr-font-color3: var(--jp-content-font-color3, rgba(0, 0, 0, 0.38));\n",
       "  --xr-border-color: var(--jp-border-color2, #e0e0e0);\n",
       "  --xr-disabled-color: var(--jp-layout-color3, #bdbdbd);\n",
       "  --xr-background-color: var(--jp-layout-color0, white);\n",
       "  --xr-background-color-row-even: var(--jp-layout-color1, white);\n",
       "  --xr-background-color-row-odd: var(--jp-layout-color2, #eeeeee);\n",
       "}\n",
       "\n",
       "html[theme=dark],\n",
       "body.vscode-dark {\n",
       "  --xr-font-color0: rgba(255, 255, 255, 1);\n",
       "  --xr-font-color2: rgba(255, 255, 255, 0.54);\n",
       "  --xr-font-color3: rgba(255, 255, 255, 0.38);\n",
       "  --xr-border-color: #1F1F1F;\n",
       "  --xr-disabled-color: #515151;\n",
       "  --xr-background-color: #111111;\n",
       "  --xr-background-color-row-even: #111111;\n",
       "  --xr-background-color-row-odd: #313131;\n",
       "}\n",
       "\n",
       ".xr-wrap {\n",
       "  display: block;\n",
       "  min-width: 300px;\n",
       "  max-width: 700px;\n",
       "}\n",
       "\n",
       ".xr-text-repr-fallback {\n",
       "  /* fallback to plain text repr when CSS is not injected (untrusted notebook) */\n",
       "  display: none;\n",
       "}\n",
       "\n",
       ".xr-header {\n",
       "  padding-top: 6px;\n",
       "  padding-bottom: 6px;\n",
       "  margin-bottom: 4px;\n",
       "  border-bottom: solid 1px var(--xr-border-color);\n",
       "}\n",
       "\n",
       ".xr-header > div,\n",
       ".xr-header > ul {\n",
       "  display: inline;\n",
       "  margin-top: 0;\n",
       "  margin-bottom: 0;\n",
       "}\n",
       "\n",
       ".xr-obj-type,\n",
       ".xr-array-name {\n",
       "  margin-left: 2px;\n",
       "  margin-right: 10px;\n",
       "}\n",
       "\n",
       ".xr-obj-type {\n",
       "  color: var(--xr-font-color2);\n",
       "}\n",
       "\n",
       ".xr-sections {\n",
       "  padding-left: 0 !important;\n",
       "  display: grid;\n",
       "  grid-template-columns: 150px auto auto 1fr 20px 20px;\n",
       "}\n",
       "\n",
       ".xr-section-item {\n",
       "  display: contents;\n",
       "}\n",
       "\n",
       ".xr-section-item input {\n",
       "  display: none;\n",
       "}\n",
       "\n",
       ".xr-section-item input + label {\n",
       "  color: var(--xr-disabled-color);\n",
       "}\n",
       "\n",
       ".xr-section-item input:enabled + label {\n",
       "  cursor: pointer;\n",
       "  color: var(--xr-font-color2);\n",
       "}\n",
       "\n",
       ".xr-section-item input:enabled + label:hover {\n",
       "  color: var(--xr-font-color0);\n",
       "}\n",
       "\n",
       ".xr-section-summary {\n",
       "  grid-column: 1;\n",
       "  color: var(--xr-font-color2);\n",
       "  font-weight: 500;\n",
       "}\n",
       "\n",
       ".xr-section-summary > span {\n",
       "  display: inline-block;\n",
       "  padding-left: 0.5em;\n",
       "}\n",
       "\n",
       ".xr-section-summary-in:disabled + label {\n",
       "  color: var(--xr-font-color2);\n",
       "}\n",
       "\n",
       ".xr-section-summary-in + label:before {\n",
       "  display: inline-block;\n",
       "  content: '►';\n",
       "  font-size: 11px;\n",
       "  width: 15px;\n",
       "  text-align: center;\n",
       "}\n",
       "\n",
       ".xr-section-summary-in:disabled + label:before {\n",
       "  color: var(--xr-disabled-color);\n",
       "}\n",
       "\n",
       ".xr-section-summary-in:checked + label:before {\n",
       "  content: '▼';\n",
       "}\n",
       "\n",
       ".xr-section-summary-in:checked + label > span {\n",
       "  display: none;\n",
       "}\n",
       "\n",
       ".xr-section-summary,\n",
       ".xr-section-inline-details {\n",
       "  padding-top: 4px;\n",
       "  padding-bottom: 4px;\n",
       "}\n",
       "\n",
       ".xr-section-inline-details {\n",
       "  grid-column: 2 / -1;\n",
       "}\n",
       "\n",
       ".xr-section-details {\n",
       "  display: none;\n",
       "  grid-column: 1 / -1;\n",
       "  margin-bottom: 5px;\n",
       "}\n",
       "\n",
       ".xr-section-summary-in:checked ~ .xr-section-details {\n",
       "  display: contents;\n",
       "}\n",
       "\n",
       ".xr-array-wrap {\n",
       "  grid-column: 1 / -1;\n",
       "  display: grid;\n",
       "  grid-template-columns: 20px auto;\n",
       "}\n",
       "\n",
       ".xr-array-wrap > label {\n",
       "  grid-column: 1;\n",
       "  vertical-align: top;\n",
       "}\n",
       "\n",
       ".xr-preview {\n",
       "  color: var(--xr-font-color3);\n",
       "}\n",
       "\n",
       ".xr-array-preview,\n",
       ".xr-array-data {\n",
       "  padding: 0 5px !important;\n",
       "  grid-column: 2;\n",
       "}\n",
       "\n",
       ".xr-array-data,\n",
       ".xr-array-in:checked ~ .xr-array-preview {\n",
       "  display: none;\n",
       "}\n",
       "\n",
       ".xr-array-in:checked ~ .xr-array-data,\n",
       ".xr-array-preview {\n",
       "  display: inline-block;\n",
       "}\n",
       "\n",
       ".xr-dim-list {\n",
       "  display: inline-block !important;\n",
       "  list-style: none;\n",
       "  padding: 0 !important;\n",
       "  margin: 0;\n",
       "}\n",
       "\n",
       ".xr-dim-list li {\n",
       "  display: inline-block;\n",
       "  padding: 0;\n",
       "  margin: 0;\n",
       "}\n",
       "\n",
       ".xr-dim-list:before {\n",
       "  content: '(';\n",
       "}\n",
       "\n",
       ".xr-dim-list:after {\n",
       "  content: ')';\n",
       "}\n",
       "\n",
       ".xr-dim-list li:not(:last-child):after {\n",
       "  content: ',';\n",
       "  padding-right: 5px;\n",
       "}\n",
       "\n",
       ".xr-has-index {\n",
       "  font-weight: bold;\n",
       "}\n",
       "\n",
       ".xr-var-list,\n",
       ".xr-var-item {\n",
       "  display: contents;\n",
       "}\n",
       "\n",
       ".xr-var-item > div,\n",
       ".xr-var-item label,\n",
       ".xr-var-item > .xr-var-name span {\n",
       "  background-color: var(--xr-background-color-row-even);\n",
       "  margin-bottom: 0;\n",
       "}\n",
       "\n",
       ".xr-var-item > .xr-var-name:hover span {\n",
       "  padding-right: 5px;\n",
       "}\n",
       "\n",
       ".xr-var-list > li:nth-child(odd) > div,\n",
       ".xr-var-list > li:nth-child(odd) > label,\n",
       ".xr-var-list > li:nth-child(odd) > .xr-var-name span {\n",
       "  background-color: var(--xr-background-color-row-odd);\n",
       "}\n",
       "\n",
       ".xr-var-name {\n",
       "  grid-column: 1;\n",
       "}\n",
       "\n",
       ".xr-var-dims {\n",
       "  grid-column: 2;\n",
       "}\n",
       "\n",
       ".xr-var-dtype {\n",
       "  grid-column: 3;\n",
       "  text-align: right;\n",
       "  color: var(--xr-font-color2);\n",
       "}\n",
       "\n",
       ".xr-var-preview {\n",
       "  grid-column: 4;\n",
       "}\n",
       "\n",
       ".xr-var-name,\n",
       ".xr-var-dims,\n",
       ".xr-var-dtype,\n",
       ".xr-preview,\n",
       ".xr-attrs dt {\n",
       "  white-space: nowrap;\n",
       "  overflow: hidden;\n",
       "  text-overflow: ellipsis;\n",
       "  padding-right: 10px;\n",
       "}\n",
       "\n",
       ".xr-var-name:hover,\n",
       ".xr-var-dims:hover,\n",
       ".xr-var-dtype:hover,\n",
       ".xr-attrs dt:hover {\n",
       "  overflow: visible;\n",
       "  width: auto;\n",
       "  z-index: 1;\n",
       "}\n",
       "\n",
       ".xr-var-attrs,\n",
       ".xr-var-data {\n",
       "  display: none;\n",
       "  background-color: var(--xr-background-color) !important;\n",
       "  padding-bottom: 5px !important;\n",
       "}\n",
       "\n",
       ".xr-var-attrs-in:checked ~ .xr-var-attrs,\n",
       ".xr-var-data-in:checked ~ .xr-var-data {\n",
       "  display: block;\n",
       "}\n",
       "\n",
       ".xr-var-data > table {\n",
       "  float: right;\n",
       "}\n",
       "\n",
       ".xr-var-name span,\n",
       ".xr-var-data,\n",
       ".xr-attrs {\n",
       "  padding-left: 25px !important;\n",
       "}\n",
       "\n",
       ".xr-attrs,\n",
       ".xr-var-attrs,\n",
       ".xr-var-data {\n",
       "  grid-column: 1 / -1;\n",
       "}\n",
       "\n",
       "dl.xr-attrs {\n",
       "  padding: 0;\n",
       "  margin: 0;\n",
       "  display: grid;\n",
       "  grid-template-columns: 125px auto;\n",
       "}\n",
       "\n",
       ".xr-attrs dt,\n",
       ".xr-attrs dd {\n",
       "  padding: 0;\n",
       "  margin: 0;\n",
       "  float: left;\n",
       "  padding-right: 10px;\n",
       "  width: auto;\n",
       "}\n",
       "\n",
       ".xr-attrs dt {\n",
       "  font-weight: normal;\n",
       "  grid-column: 1;\n",
       "}\n",
       "\n",
       ".xr-attrs dt:hover span {\n",
       "  display: inline-block;\n",
       "  background: var(--xr-background-color);\n",
       "  padding-right: 10px;\n",
       "}\n",
       "\n",
       ".xr-attrs dd {\n",
       "  grid-column: 2;\n",
       "  white-space: pre-wrap;\n",
       "  word-break: break-all;\n",
       "}\n",
       "\n",
       ".xr-icon-database,\n",
       ".xr-icon-file-text2 {\n",
       "  display: inline-block;\n",
       "  vertical-align: middle;\n",
       "  width: 1em;\n",
       "  height: 1.5em !important;\n",
       "  stroke-width: 0;\n",
       "  stroke: currentColor;\n",
       "  fill: currentColor;\n",
       "}\n",
       "</style><pre class='xr-text-repr-fallback'>&lt;xarray.Dataset&gt;\n",
       "Dimensions:      (ctd_data_point: 1363330)\n",
       "Dimensions without coordinates: ctd_data_point\n",
       "Data variables:\n",
       "    pressure     (ctd_data_point) float64 nan nan nan nan ... 1.165 1.037 nan\n",
       "    latitude     (ctd_data_point) float64 -51.51 -51.51 -51.51 ... -51.7 -51.7\n",
       "    longitude    (ctd_data_point) float64 30.03 30.03 30.03 ... 38.99 38.99\n",
       "    temperature  (ctd_data_point) float64 3.564 3.561 3.56 ... 1.812 1.811 1.814\n",
       "    salinity     (ctd_data_point) float64 nan nan nan nan ... 33.89 33.89 nan\n",
       "    dives        (ctd_data_point) float64 1.0 1.0 1.0 1.0 ... 462.5 462.5 462.5\n",
       "    time         (ctd_data_point) datetime64[ns] 2019-04-30T13:20:51.23000345...</pre><div class='xr-wrap' hidden><div class='xr-header'><div class='xr-obj-type'>xarray.Dataset</div></div><ul class='xr-sections'><li class='xr-section-item'><input id='section-346bb2a4-af43-4f5f-8307-aef48ba60b0a' class='xr-section-summary-in' type='checkbox' disabled ><label for='section-346bb2a4-af43-4f5f-8307-aef48ba60b0a' class='xr-section-summary'  title='Expand/collapse section'>Dimensions:</label><div class='xr-section-inline-details'><ul class='xr-dim-list'><li><span>ctd_data_point</span>: 1363330</li></ul></div><div class='xr-section-details'></div></li><li class='xr-section-item'><input id='section-8afc49da-391b-407e-b9c8-f9ab4442a79a' class='xr-section-summary-in' type='checkbox' disabled ><label for='section-8afc49da-391b-407e-b9c8-f9ab4442a79a' class='xr-section-summary'  title='Expand/collapse section'>Coordinates: <span>(0)</span></label><div class='xr-section-inline-details'></div><div class='xr-section-details'><ul class='xr-var-list'></ul></div></li><li class='xr-section-item'><input id='section-7a2c23df-4740-46c5-a46b-43c0755036fc' class='xr-section-summary-in' type='checkbox'  checked><label for='section-7a2c23df-4740-46c5-a46b-43c0755036fc' class='xr-section-summary' >Data variables: <span>(7)</span></label><div class='xr-section-inline-details'></div><div class='xr-section-details'><ul class='xr-var-list'><li class='xr-var-item'><div class='xr-var-name'><span>pressure</span></div><div class='xr-var-dims'>(ctd_data_point)</div><div class='xr-var-dtype'>float64</div><div class='xr-var-preview xr-preview'>nan nan nan nan ... 1.165 1.037 nan</div><input id='attrs-ce57e923-16cc-469a-bbdd-ef42487aa14e' class='xr-var-attrs-in' type='checkbox' ><label for='attrs-ce57e923-16cc-469a-bbdd-ef42487aa14e' title='Show/Hide attributes'><svg class='icon xr-icon-file-text2'><use xlink:href='#icon-file-text2'></use></svg></label><input id='data-2774a839-9c5c-4dff-a6c3-4c76a684a9c7' class='xr-var-data-in' type='checkbox'><label for='data-2774a839-9c5c-4dff-a6c3-4c76a684a9c7' title='Show/Hide data repr'><svg class='icon xr-icon-database'><use xlink:href='#icon-database'></use></svg></label><div class='xr-var-attrs'><dl class='xr-attrs'><dt><span>units :</span></dt><dd>dbar</dd><dt><span>standard_name :</span></dt><dd>Pressure</dd></dl></div><div class='xr-var-data'><pre>array([       nan,        nan,        nan, ..., 1.16508536, 1.03725031,\n",
       "              nan])</pre></div></li><li class='xr-var-item'><div class='xr-var-name'><span>latitude</span></div><div class='xr-var-dims'>(ctd_data_point)</div><div class='xr-var-dtype'>float64</div><div class='xr-var-preview xr-preview'>-51.51 -51.51 ... -51.7 -51.7</div><input id='attrs-96c1758e-742a-4451-bf72-1beeb3ed26b5' class='xr-var-attrs-in' type='checkbox' ><label for='attrs-96c1758e-742a-4451-bf72-1beeb3ed26b5' title='Show/Hide attributes'><svg class='icon xr-icon-file-text2'><use xlink:href='#icon-file-text2'></use></svg></label><input id='data-ca4a159e-fc58-436e-bd90-0fe9ec9b4871' class='xr-var-data-in' type='checkbox'><label for='data-ca4a159e-fc58-436e-bd90-0fe9ec9b4871' title='Show/Hide data repr'><svg class='icon xr-icon-database'><use xlink:href='#icon-database'></use></svg></label><div class='xr-var-attrs'><dl class='xr-attrs'><dt><span>units :</span></dt><dd>degrees north</dd><dt><span>standard_name :</span></dt><dd>Latitude</dd></dl></div><div class='xr-var-data'><pre>array([-51.50567167, -51.50564695, -51.50561934, ..., -51.70114057,\n",
       "       -51.70113695, -51.70113333])</pre></div></li><li class='xr-var-item'><div class='xr-var-name'><span>longitude</span></div><div class='xr-var-dims'>(ctd_data_point)</div><div class='xr-var-dtype'>float64</div><div class='xr-var-preview xr-preview'>30.03 30.03 30.03 ... 38.99 38.99</div><input id='attrs-1fd3186f-5a44-4c84-982f-180b6fb8ceaa' class='xr-var-attrs-in' type='checkbox' ><label for='attrs-1fd3186f-5a44-4c84-982f-180b6fb8ceaa' title='Show/Hide attributes'><svg class='icon xr-icon-file-text2'><use xlink:href='#icon-file-text2'></use></svg></label><input id='data-7a35c571-be25-4942-a8de-327e7304deb6' class='xr-var-data-in' type='checkbox'><label for='data-7a35c571-be25-4942-a8de-327e7304deb6' title='Show/Hide data repr'><svg class='icon xr-icon-database'><use xlink:href='#icon-database'></use></svg></label><div class='xr-var-attrs'><dl class='xr-attrs'><dt><span>units :</span></dt><dd>degrees east</dd><dt><span>standard_name :</span></dt><dd>Longitude</dd></dl></div><div class='xr-var-data'><pre>array([30.026965  , 30.02701123, 30.02706289, ..., 38.99483196,\n",
       "       38.99484099, 38.99485   ])</pre></div></li><li class='xr-var-item'><div class='xr-var-name'><span>temperature</span></div><div class='xr-var-dims'>(ctd_data_point)</div><div class='xr-var-dtype'>float64</div><div class='xr-var-preview xr-preview'>3.564 3.561 3.56 ... 1.811 1.814</div><input id='attrs-4555f068-8a63-41a5-a650-310e2a2828ac' class='xr-var-attrs-in' type='checkbox' ><label for='attrs-4555f068-8a63-41a5-a650-310e2a2828ac' title='Show/Hide attributes'><svg class='icon xr-icon-file-text2'><use xlink:href='#icon-file-text2'></use></svg></label><input id='data-e13ebef3-936c-48d8-bd11-f6ec11a39c72' class='xr-var-data-in' type='checkbox'><label for='data-e13ebef3-936c-48d8-bd11-f6ec11a39c72' title='Show/Hide data repr'><svg class='icon xr-icon-database'><use xlink:href='#icon-database'></use></svg></label><div class='xr-var-attrs'><dl class='xr-attrs'><dt><span>units :</span></dt><dd>Celsius</dd><dt><span>standard_name :</span></dt><dd>Conservative Temperature</dd></dl></div><div class='xr-var-data'><pre>array([3.56427515, 3.56071041, 3.56030193, ..., 1.81192571, 1.81146748,\n",
       "       1.81394953])</pre></div></li><li class='xr-var-item'><div class='xr-var-name'><span>salinity</span></div><div class='xr-var-dims'>(ctd_data_point)</div><div class='xr-var-dtype'>float64</div><div class='xr-var-preview xr-preview'>nan nan nan nan ... 33.89 33.89 nan</div><input id='attrs-594edf55-5aac-4e13-bb0c-f887c1d4f781' class='xr-var-attrs-in' type='checkbox' ><label for='attrs-594edf55-5aac-4e13-bb0c-f887c1d4f781' title='Show/Hide attributes'><svg class='icon xr-icon-file-text2'><use xlink:href='#icon-file-text2'></use></svg></label><input id='data-6d264857-35ae-42db-9c7a-86f2f11dba83' class='xr-var-data-in' type='checkbox'><label for='data-6d264857-35ae-42db-9c7a-86f2f11dba83' title='Show/Hide data repr'><svg class='icon xr-icon-database'><use xlink:href='#icon-database'></use></svg></label><div class='xr-var-attrs'><dl class='xr-attrs'><dt><span>units :</span></dt><dd>g/kg</dd><dt><span>standard_name :</span></dt><dd>Absolute Salinity</dd></dl></div><div class='xr-var-data'><pre>array([        nan,         nan,         nan, ..., 33.89170333,\n",
       "       33.89167527,         nan])</pre></div></li><li class='xr-var-item'><div class='xr-var-name'><span>dives</span></div><div class='xr-var-dims'>(ctd_data_point)</div><div class='xr-var-dtype'>float64</div><div class='xr-var-preview xr-preview'>1.0 1.0 1.0 ... 462.5 462.5 462.5</div><input id='attrs-0973eaec-4ef9-47df-9008-0659adaf8ee9' class='xr-var-attrs-in' type='checkbox' ><label for='attrs-0973eaec-4ef9-47df-9008-0659adaf8ee9' title='Show/Hide attributes'><svg class='icon xr-icon-file-text2'><use xlink:href='#icon-file-text2'></use></svg></label><input id='data-2faed12e-ba3d-42a8-85eb-776f7eeedb4a' class='xr-var-data-in' type='checkbox'><label for='data-2faed12e-ba3d-42a8-85eb-776f7eeedb4a' title='Show/Hide data repr'><svg class='icon xr-icon-database'><use xlink:href='#icon-database'></use></svg></label><div class='xr-var-attrs'><dl class='xr-attrs'><dt><span>units :</span></dt><dd>NA</dd><dt><span>standard_name :</span></dt><dd>Dive Number</dd></dl></div><div class='xr-var-data'><pre>array([  1. ,   1. ,   1. , ..., 462.5, 462.5, 462.5])</pre></div></li><li class='xr-var-item'><div class='xr-var-name'><span>time</span></div><div class='xr-var-dims'>(ctd_data_point)</div><div class='xr-var-dtype'>datetime64[ns]</div><div class='xr-var-preview xr-preview'>2019-04-30T13:20:51.230003456 .....</div><input id='attrs-f2086cb8-3574-45ff-bea1-b93b8dbb0c91' class='xr-var-attrs-in' type='checkbox' ><label for='attrs-f2086cb8-3574-45ff-bea1-b93b8dbb0c91' title='Show/Hide attributes'><svg class='icon xr-icon-file-text2'><use xlink:href='#icon-file-text2'></use></svg></label><input id='data-870c3e91-5b89-4148-a9d4-bf58b544106e' class='xr-var-data-in' type='checkbox'><label for='data-870c3e91-5b89-4148-a9d4-bf58b544106e' title='Show/Hide data repr'><svg class='icon xr-icon-database'><use xlink:href='#icon-database'></use></svg></label><div class='xr-var-attrs'><dl class='xr-attrs'><dt><span>standard_name :</span></dt><dd>Time</dd></dl></div><div class='xr-var-data'><pre>array([&#x27;2019-04-30T13:20:51.230003456&#x27;, &#x27;2019-04-30T13:20:55.705999872&#x27;,\n",
       "       &#x27;2019-04-30T13:21:00.706998784&#x27;, ...,\n",
       "       &#x27;2019-07-26T01:58:34.707003904&#x27;, &#x27;2019-07-26T01:58:39.706996992&#x27;,\n",
       "       &#x27;2019-07-26T01:58:44.700995328&#x27;], dtype=&#x27;datetime64[ns]&#x27;)</pre></div></li></ul></div></li><li class='xr-section-item'><input id='section-bb25ca1a-6222-4150-a92b-591cd1c7fd97' class='xr-section-summary-in' type='checkbox' disabled ><label for='section-bb25ca1a-6222-4150-a92b-591cd1c7fd97' class='xr-section-summary'  title='Expand/collapse section'>Attributes: <span>(0)</span></label><div class='xr-section-inline-details'></div><div class='xr-section-details'><dl class='xr-attrs'></dl></div></li></ul></div></div>"
      ],
      "text/plain": [
       "<xarray.Dataset>\n",
       "Dimensions:      (ctd_data_point: 1363330)\n",
       "Dimensions without coordinates: ctd_data_point\n",
       "Data variables:\n",
       "    pressure     (ctd_data_point) float64 nan nan nan nan ... 1.165 1.037 nan\n",
       "    latitude     (ctd_data_point) float64 -51.51 -51.51 -51.51 ... -51.7 -51.7\n",
       "    longitude    (ctd_data_point) float64 30.03 30.03 30.03 ... 38.99 38.99\n",
       "    temperature  (ctd_data_point) float64 3.564 3.561 3.56 ... 1.812 1.811 1.814\n",
       "    salinity     (ctd_data_point) float64 nan nan nan nan ... 33.89 33.89 nan\n",
       "    dives        (ctd_data_point) float64 1.0 1.0 1.0 1.0 ... 462.5 462.5 462.5\n",
       "    time         (ctd_data_point) datetime64[ns] 2019-04-30T13:20:51.23000345..."
      ]
     },
     "execution_count": 26,
     "metadata": {},
     "output_type": "execute_result"
    }
   ],
   "source": [
    "ds_659"
   ]
  },
  {
   "cell_type": "code",
   "execution_count": 81,
   "metadata": {},
   "outputs": [],
   "source": [
    "days = ds_659.time - np.datetime64('2019-01-01')\n",
    "days_round_659 = (days / np.timedelta64(1, 'D')).round()\n",
    "ds_659['days'] = (days / np.timedelta64(1, 'D'))\n",
    "\n",
    "days = ds_660.time - np.datetime64('2019-01-01')\n",
    "days_round_660 = (days / np.timedelta64(1, 'D')).round()\n",
    "ds_660['days'] = (days / np.timedelta64(1, 'D'))"
   ]
  },
  {
   "cell_type": "code",
   "execution_count": 5,
   "metadata": {},
   "outputs": [],
   "source": [
    "def great_circle_distance(lon1, lat1, lon2, lat2):\n",
    "    \"\"\"Calculate the great circle distance between one or multiple pairs of\n",
    "    points given in spherical coordinates. Spherical coordinates are expected\n",
    "    in degrees. Angle definition follows standard longitude/latitude definition.\n",
    "    This uses the arctan version of the great-circle distance function\n",
    "    (en.wikipedia.org/wiki/Great-circle_distance) for increased\n",
    "    numerical stability.\n",
    "    Parameters\n",
    "    ----------\n",
    "    lon1: float scalar or numpy array\n",
    "        Longitude coordinate(s) of the first element(s) of the point\n",
    "        pair(s), given in degrees.\n",
    "    lat1: float scalar or numpy array\n",
    "        Latitude coordinate(s) of the first element(s) of the point\n",
    "        pair(s), given in degrees.\n",
    "    lon2: float scalar or numpy array\n",
    "        Longitude coordinate(s) of the second element(s) of the point\n",
    "        pair(s), given in degrees.\n",
    "    lat2: float scalar or numpy array\n",
    "        Latitude coordinate(s) of the second element(s) of the point\n",
    "        pair(s), given in degrees.\n",
    "    Calculation of distances follows numpy elementwise semantics, so if\n",
    "    an array of length N is passed, all input parameters need to be\n",
    "    arrays of length N or scalars.\n",
    "    Returns\n",
    "    -------\n",
    "    distance: float scalar or numpy array\n",
    "        The great circle distance(s) (in degrees) between the\n",
    "        given pair(s) of points.\n",
    "    \"\"\"\n",
    "    # Convert to radians:\n",
    "    lat1 = np.array(lat1) * np.pi / 180.0\n",
    "    lat2 = np.array(lat2) * np.pi / 180.0\n",
    "    dlon = (lon1 - lon2) * np.pi / 180.0\n",
    "\n",
    "    # Evaluate trigonometric functions that need to be evaluated more\n",
    "    # than once:\n",
    "    c1 = np.cos(lat1)\n",
    "    s1 = np.sin(lat1)\n",
    "    c2 = np.cos(lat2)\n",
    "    s2 = np.sin(lat2)\n",
    "    cd = np.cos(dlon)\n",
    "\n",
    "    # This uses the arctan version of the great-circle distance function\n",
    "    # from en.wikipedia.org/wiki/Great-circle_distance for increased\n",
    "    # numerical stability.\n",
    "    # Formula can be obtained from [2] combining eqns. (14)-(16)\n",
    "    # for spherical geometry (f=0).\n",
    "\n",
    "    return (\n",
    "        180.0\n",
    "        / np.pi\n",
    "        * np.arctan2(\n",
    "            np.sqrt((c2 * np.sin(dlon)) ** 2 + (c1 * s2 - s1 * c2 * cd) ** 2),\n",
    "            s1 * s2 + c1 * c2 * cd,\n",
    "        )\n",
    "    )"
   ]
  },
  {
   "cell_type": "code",
   "execution_count": 87,
   "metadata": {},
   "outputs": [
    {
     "data": {
      "image/png": "[encoded data removed]",
      "text/plain": [
       "<Figure size 432x288 with 1 Axes>"
      ]
     },
     "metadata": {
      "needs_background": "light"
     },
     "output_type": "display_data"
    }
   ],
   "source": [
    "# Glider tracks \n",
    "\n",
    "\n",
    "fig, ax = plt.subplots(figsize = (6,4), \n",
    "                       constrained_layout=True)\n",
    "\n",
    "#plt.subplot(211)\n",
    "ax.plot(ds_659.longitude, ds_659.latitude, \n",
    "         label='659', color='tab:blue', linewidth=2)\n",
    "ax.plot(ds_660.longitude, ds_660.latitude, \n",
    "         label='660', color='tab:orange', linewidth=2)\n",
    "\n",
    "ax.legend()\n",
    "days = np.linspace(120,200,9)\n",
    "for i in days: \n",
    "    ax.plot(ds_659.longitude.where(days_round_659==i, drop=True), \n",
    "             ds_659.latitude.where(days_round_659==i, drop=True), \n",
    "             linewidth=4, color='tab:purple')\n",
    "    ax.text(ds_659.longitude.where(days_round_659==i, drop=True)[0]+0.1, \n",
    "             ds_659.latitude.where(days_round_659==i, drop=True)[0], \n",
    "             int(i))\n",
    "    \n",
    "\n",
    "#plt.grid()\n",
    "plt.xlabel('Longitude')\n",
    "plt.ylabel('Latitude')\n",
    "# plt.title('Glider Tracks')\n",
    "\n",
    "def forward_2nd_xaxis(x):\n",
    "    return (x-30)*110*np.cos(np.pi/180*-52)\n",
    "    #great_circle_distance(30, -54, x, -52)\n",
    "    \n",
    "def inverse_2nd_xaxis(x):\n",
    "    return (x)/110/np.cos(np.pi/180*-52) + 30\n",
    "\n",
    "def forward_2nd_yaxis(x):\n",
    "    return (x+54)*110\n",
    "    #great_circle_distance(30, -54, x, -52)\n",
    "    \n",
    "def inverse_2nd_yaxis(x):\n",
    "    return (x)/110 - 54\n",
    "\n",
    "\n",
    "secxax = ax.secondary_xaxis('top', \n",
    "            functions=(forward_2nd_xaxis, inverse_2nd_xaxis))\n",
    "secxax.set_xlabel('X [km]')\n",
    "\n",
    "secyax = ax.secondary_yaxis('right', \n",
    "            functions=(forward_2nd_yaxis, inverse_2nd_yaxis))\n",
    "secyax.set_ylabel('Y [km]')\n",
    "\n",
    "#plt.subplot(212)\n",
    "#plt.plot(X_659, Y_659, label='659')\n",
    "#plt.plot(X_660, Y_660, label='660')\n",
    "#plt.grid()\n",
    "#plt.xlabel('X (km)')\n",
    "#plt.ylabel('Y (km)')\n",
    "plt.savefig('glider_tracks.pdf')"
   ]
  },
  {
   "cell_type": "code",
   "execution_count": 88,
   "metadata": {},
   "outputs": [
    {
     "data": {
      "image/png": "[encoded data removed]",
      "text/plain": [
       "<Figure size 360x252 with 1 Axes>"
      ]
     },
     "metadata": {
      "needs_background": "light"
     },
     "output_type": "display_data"
    }
   ],
   "source": [
    "# Vertical sampling \n",
    "fig, ax = plt.subplots(figsize = (5,3.5), \n",
    "                       constrained_layout=True)\n",
    "\n",
    "np.abs(ds_659.pressure.diff('ctd_data_point')).plot.hist(ax=ax, bins=np.linspace(0,2,100), \n",
    "                                                         histtype='step', color='tab:blue',\n",
    "                                                        density=True, label='sg659',\n",
    "                                                        linewidth=2);\n",
    "np.abs(ds_660.pressure.diff('ctd_data_point')).plot.hist(ax= ax, bins=np.linspace(0,2,100), \n",
    "                                                         histtype='step', color='tab:orange',\n",
    "                                                        density=True, label='sg660',\n",
    "                                                        linewidth=2);\n",
    "\n",
    "plt.legend()\n",
    "\n",
    "ax.set_xlim([0, 2])\n",
    "ax.set_ylabel('PDF')\n",
    "ax.set_xlabel('dPressure [dBar]')\n",
    "ax.set_title('')\n",
    "plt.savefig('dZ.pdf')"
   ]
  },
  {
   "cell_type": "code",
   "execution_count": 52,
   "metadata": {},
   "outputs": [],
   "source": [
    "# Horizontal Sampling \n"
   ]
  },
  {
   "cell_type": "code",
   "execution_count": 63,
   "metadata": {},
   "outputs": [],
   "source": [
    "dist_659 = gt.utils.distance(ds_659.longitude, \n",
    "                       ds_659.latitude)\n",
    "\n",
    "ds_659['distance'] = xr.DataArray(np.cumsum(dist_659), \n",
    "                           dims= ['ctd_data_point'])\n",
    "\n",
    "dist_660 = gt.utils.distance(ds_660.longitude, \n",
    "                       ds_660.latitude)\n",
    "\n",
    "ds_660['distance'] = xr.DataArray(np.cumsum(dist_660), \n",
    "                           dims= ['ctd_data_point'])"
   ]
  },
  {
   "cell_type": "code",
   "execution_count": 104,
   "metadata": {},
   "outputs": [
    {
     "data": {
      "image/png": "[encoded data removed]",
      "text/plain": [
       "<Figure size 432x288 with 1 Axes>"
      ]
     },
     "metadata": {
      "needs_background": "light"
     },
     "output_type": "display_data"
    }
   ],
   "source": [
    "(ds_659['distance']/1e3).plot()\n",
    "(ds_660['distance']/1e3).plot()\n",
    "plt.grid()"
   ]
  },
  {
   "cell_type": "code",
   "execution_count": 107,
   "metadata": {},
   "outputs": [
    {
     "name": "stdout",
     "output_type": "stream",
     "text": [
      "<xarray.DataArray 'distance' ()>\n",
      "array(1488.76109881)\n",
      "<xarray.DataArray 'distance' ()>\n",
      "array(2188.78208689)\n"
     ]
    }
   ],
   "source": [
    "print((ds_659['distance']/1e3)[-1])\n",
    "print((ds_660['distance']/1e3)[-1])"
   ]
  },
  {
   "cell_type": "code",
   "execution_count": 64,
   "metadata": {},
   "outputs": [],
   "source": [
    "dist_659_surf = ds_659.distance.where(ds_659.pressure<50).groupby(ds_659.dives).mean()\n",
    "dist_659_mid = ds_659.distance.where(ds_659.pressure<525).where(ds_659.pressure>475).groupby(ds_659.dives).mean()\n",
    "dist_659_bottom = ds_659.distance.where(ds_659.pressure>950).groupby(ds_659.dives).mean()\n",
    "\n",
    "dist_660_surf = ds_660.distance.where(ds_660.pressure<50).groupby(ds_660.dives).mean()\n",
    "dist_660_mid = ds_660.distance.where(ds_660.pressure<525).where(ds_660.pressure>475).groupby(ds_660.dives).mean()\n",
    "dist_660_bottom = ds_660.distance.where(ds_660.pressure>950).groupby(ds_660.dives).mean()"
   ]
  },
  {
   "cell_type": "code",
   "execution_count": 89,
   "metadata": {},
   "outputs": [
    {
     "data": {
      "image/png": "[encoded data removed]",
      "text/plain": [
       "<Figure size 360x252 with 1 Axes>"
      ]
     },
     "metadata": {
      "needs_background": "light"
     },
     "output_type": "display_data"
    }
   ],
   "source": [
    "fig, ax = plt.subplots(figsize = (5,3.5), \n",
    "                       constrained_layout=True)\n",
    "\n",
    "(dist_659_surf/1e3).diff('dives').plot.hist(bins = np.linspace(0,8,30), \n",
    "                                      density=True, histtype='step', linewidth=2,\n",
    "                                           label='25m');\n",
    "\n",
    "(dist_659_mid/1e3).diff('dives').plot.hist(bins = np.linspace(0,8,30), \n",
    "                                      density=True, histtype='step', linewidth=2,\n",
    "                                          label='500m');\n",
    "\n",
    "(dist_659_bottom/1e3).diff('dives').plot.hist(bins = np.linspace(0,8,30), \n",
    "                                      density=True, histtype='step', linewidth=2,\n",
    "                                             label='975m');\n",
    "\n",
    "ax.set_xlabel('dX [km]')\n",
    "ax.set_ylabel('PDF')\n",
    "ax.set_yscale('log')\n",
    "ax.set_title('sg659')\n",
    "plt.legend()\n",
    "\n",
    "plt.savefig('dX.pdf')"
   ]
  },
  {
   "cell_type": "code",
   "execution_count": 73,
   "metadata": {},
   "outputs": [
    {
     "data": {
      "image/png": "[encoded data removed]",
      "text/plain": [
       "<Figure size 432x288 with 1 Axes>"
      ]
     },
     "metadata": {
      "needs_background": "light"
     },
     "output_type": "display_data"
    }
   ],
   "source": [
    "(dist_660_surf/1e3).diff('dives').plot.hist(bins = np.linspace(0,8,30), \n",
    "                                      density=True, histtype='step', linewidth=2);\n",
    "\n",
    "(dist_660_mid/1e3).diff('dives').plot.hist(bins = np.linspace(0,8,30), \n",
    "                                      density=True, histtype='step', linewidth=2);\n",
    "\n",
    "(dist_660_bottom/1e3).diff('dives').plot.hist(bins = np.linspace(0,8,30), \n",
    "                                      density=True, histtype='step', linewidth=2);\n",
    "\n",
    "plt.yscale('log')"
   ]
  },
  {
   "cell_type": "markdown",
   "metadata": {},
   "source": [
    "### Caution - to be meaningful the plots below should be considered in variance preserving form."
   ]
  },
  {
   "cell_type": "code",
   "execution_count": 101,
   "metadata": {},
   "outputs": [
    {
     "data": {
      "text/plain": [
       "Text(0.5, 1.0, 'sg659')"
      ]
     },
     "execution_count": 101,
     "metadata": {},
     "output_type": "execute_result"
    },
    {
     "data": {
      "image/png": "[encoded data removed]",
      "text/plain": [
       "<Figure size 432x288 with 1 Axes>"
      ]
     },
     "metadata": {
      "needs_background": "light"
     },
     "output_type": "display_data"
    }
   ],
   "source": [
    "\n",
    "(dist_659_surf/1e3).diff('dives').plot.hist(bins = np.logspace(-2,1.5,30), label='25m',\n",
    "                                 density=True, histtype='step', linewidth=2);\n",
    "(dist_659_mid/1e3).diff('dives').plot.hist(bins = np.logspace(-2,1.5,30), label='500m',\n",
    "                                      density=True, histtype='step', linewidth=2);\n",
    "(dist_659_bottom/1e3).diff('dives').plot.hist(bins = np.logspace(-2,1.5,30), label='975m',\n",
    "                                      density=True, histtype='step', linewidth=2);\n",
    "\n",
    "\n",
    "plt.xlim([1e-2, 20])\n",
    "plt.xscale('log')\n",
    "plt.yscale('log')\n",
    "plt.legend()\n",
    "plt.title('sg659')"
   ]
  },
  {
   "cell_type": "code",
   "execution_count": 100,
   "metadata": {},
   "outputs": [
    {
     "data": {
      "text/plain": [
       "Text(0.5, 1.0, 'sg660')"
      ]
     },
     "execution_count": 100,
     "metadata": {},
     "output_type": "execute_result"
    },
    {
     "data": {
      "image/png": "[encoded data removed]",
      "text/plain": [
       "<Figure size 432x288 with 1 Axes>"
      ]
     },
     "metadata": {
      "needs_background": "light"
     },
     "output_type": "display_data"
    }
   ],
   "source": [
    "(dist_660_surf/1e3).diff('dives').plot.hist(bins = np.logspace(-2,1.5,30), label='25m',\n",
    "                                      density=True, histtype='step', linewidth=2);\n",
    "(dist_660_mid/1e3).diff('dives').plot.hist(bins = np.logspace(-2,1.5,30), label='500m',\n",
    "                                      density=True, histtype='step', linewidth=2);\n",
    "(dist_660_bottom/1e3).diff('dives').plot.hist(bins = np.logspace(-2,1.5,30), label='975m',\n",
    "                                      density=True, histtype='step', linewidth=2);\n",
    "\n",
    "\n",
    "plt.xlim([1e-2, 20])\n",
    "plt.xscale('log')\n",
    "plt.yscale('log')\n",
    "plt.legend()\n",
    "plt.title('sg660')"
   ]
  },
  {
   "cell_type": "code",
   "execution_count": 83,
   "metadata": {},
   "outputs": [],
   "source": [
    "# Time sampling \n",
    "\n",
    "days_659_surf = ds_659.days.where(ds_659.pressure<50).groupby(ds_659.dives).mean()\n",
    "days_659_mid = ds_659.days.where(ds_659.pressure<525).where(ds_659.pressure>475).groupby(ds_659.dives).mean()\n",
    "days_659_bottom = ds_659.days.where(ds_659.pressure>950).groupby(ds_659.dives).mean()"
   ]
  },
  {
   "cell_type": "code",
   "execution_count": 91,
   "metadata": {},
   "outputs": [
    {
     "data": {
      "image/png": "[encoded data removed]",
      "text/plain": [
       "<Figure size 360x252 with 1 Axes>"
      ]
     },
     "metadata": {
      "needs_background": "light"
     },
     "output_type": "display_data"
    }
   ],
   "source": [
    "fig, ax = plt.subplots(figsize = (5,3.5), \n",
    "                       constrained_layout=True)\n",
    "\n",
    "(days_659_surf*24).diff('dives').plot.hist(bins = np.linspace(0,8,15), \n",
    "                                      density=True, histtype='step', linewidth=2,\n",
    "                                           label='25m');\n",
    "\n",
    "(days_659_mid*24).diff('dives').plot.hist(bins = np.linspace(0,8,15), \n",
    "                                      density=True, histtype='step', linewidth=2,\n",
    "                                          label='500m');\n",
    "\n",
    "(days_659_bottom*24).diff('dives').plot.hist(bins = np.linspace(0,8,15), \n",
    "                                      density=True, histtype='step', linewidth=2,\n",
    "                                             label='975m');\n",
    "\n",
    "ax.set_xlabel('dT [hours]')\n",
    "ax.set_ylabel('PDF')\n",
    "ax.set_yscale('log')\n",
    "ax.set_title('sg659')\n",
    "plt.legend()\n",
    "\n",
    "plt.savefig('dT.pdf')"
   ]
  },
  {
   "cell_type": "code",
   "execution_count": null,
   "metadata": {},
   "outputs": [],
   "source": []
  }
 ],
 "metadata": {
  "kernelspec": {
   "display_name": "Python [conda env:sogos]",
   "language": "python",
   "name": "conda-env-sogos-py"
  },
  "language_info": {
   "codemirror_mode": {
    "name": "ipython",
    "version": 3
   },
   "file_extension": ".py",
   "mimetype": "text/x-python",
   "name": "python",
   "nbconvert_exporter": "python",
   "pygments_lexer": "ipython3",
   "version": "3.7.10"
  }
 },
 "nbformat": 4,
 "nbformat_minor": 4
}
