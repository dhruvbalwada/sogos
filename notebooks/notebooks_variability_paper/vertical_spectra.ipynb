{
 "cells": [
  {
   "cell_type": "markdown",
   "metadata": {},
   "source": [
    "## Vertical Spectra\n",
    "\n",
    "Vertical spectra of tracers in the ocean are not usually considered, here we look at them. \n"
   ]
  },
  {
   "cell_type": "code",
   "execution_count": 1,
   "metadata": {},
   "outputs": [],
   "source": [
    "from scipy.io import loadmat\n",
    "import numpy as np\n",
    "import xarray as xr\n",
    "\n",
    "import glidertools as gt\n",
    "import matplotlib.pylab as plt\n",
    "from matplotlib.colors import BoundaryNorm\n",
    "\n",
    "from cmocean import cm as cmo\n",
    "\n",
    "import xrft \n",
    "\n",
    "import gsw"
   ]
  },
  {
   "cell_type": "code",
   "execution_count": 2,
   "metadata": {},
   "outputs": [],
   "source": [
    "plt.style.use('seaborn-colorblind')\n",
    "plt.rcParams['font.size'] = 12"
   ]
  },
  {
   "cell_type": "code",
   "execution_count": 3,
   "metadata": {},
   "outputs": [],
   "source": [
    "data_dir = '/Users/dhruvbalwada/OneDrive/sogos_data'\n",
    "data_659 = data_dir+'/data/interim/gliders/sg659/CTD_659.nc'\n",
    "data_660 = data_dir+'/data/interim/gliders/sg660/CTD_660.nc'\n",
    "\n",
    "ds_659 = xr.load_dataset(data_659)\n",
    "ds_660 = xr.load_dataset(data_660)"
   ]
  },
  {
   "cell_type": "code",
   "execution_count": 4,
   "metadata": {},
   "outputs": [],
   "source": [
    "# Calculate a time axis as YTD\n",
    "days = ds_659.time - np.datetime64('2019-01-01')\n",
    "days_round_659 = (days / np.timedelta64(1, 'D')).round()\n",
    "ds_659['days'] = (days / np.timedelta64(1, 'D'))\n",
    "\n",
    "days = ds_660.time - np.datetime64('2019-01-01')\n",
    "days_round_660 = (days / np.timedelta64(1, 'D')).round()\n",
    "ds_660['days'] = (days / np.timedelta64(1, 'D'))"
   ]
  },
  {
   "cell_type": "code",
   "execution_count": 5,
   "metadata": {},
   "outputs": [],
   "source": [
    "# Calculate an along glider path distance axis\n",
    "dist_659 = gt.utils.distance(ds_659.longitude, \n",
    "                       ds_659.latitude)\n",
    "\n",
    "ds_659['distance'] = xr.DataArray(np.cumsum(dist_659), \n",
    "                           dims= ['ctd_data_point'])\n",
    "\n",
    "dist_660 = gt.utils.distance(ds_660.longitude, \n",
    "                       ds_660.latitude)\n",
    "ds_660['distance'] = xr.DataArray(np.cumsum(dist_660), \n",
    "                           dims= ['ctd_data_point'])"
   ]
  },
  {
   "cell_type": "code",
   "execution_count": 6,
   "metadata": {},
   "outputs": [],
   "source": [
    "# Calculate the potential density\n",
    "ds_659['potdens'] = gt.physics.potential_density(ds_659.salinity, \n",
    "                                                 ds_659.temperature, \n",
    "                                                 ds_659.pressure, \n",
    "                                                 ds_659.latitude, \n",
    "                                                 ds_659.longitude)\n",
    "\n",
    "ds_660['potdens'] = gt.physics.potential_density(ds_660.salinity, \n",
    "                                                 ds_660.temperature, \n",
    "                                                 ds_660.pressure,\n",
    "                                                 ds_660.latitude, \n",
    "                                                 ds_660.longitude)\n"
   ]
  },
  {
   "cell_type": "code",
   "execution_count": 9,
   "metadata": {},
   "outputs": [],
   "source": [
    "# Calculate the spice based on the TEOS10 function\n",
    "# \n",
    "# It remains unclear to me if this is the right thing to do, \n",
    "# or should we be using a locally referenced variable. \n",
    "# Discuss and iterate on this. \n",
    "\n",
    "ds_659['spice'] = gt.physics.spice0(ds_659.salinity, \n",
    "                         ds_659.temperature, \n",
    "                         ds_659.pressure, \n",
    "                         ds_659.latitude, \n",
    "                         ds_659.longitude)\n",
    "\n",
    "ds_660['spice'] = gt.physics.spice0(ds_660.salinity, \n",
    "                         ds_660.temperature, \n",
    "                         ds_660.pressure, \n",
    "                         ds_660.latitude, \n",
    "                         ds_660.longitude)"
   ]
  },
  {
   "cell_type": "code",
   "execution_count": 10,
   "metadata": {},
   "outputs": [],
   "source": [
    "# Interpolate and grid glider data on pressure-time axis\n",
    "\n",
    "# Note this is different from what glidertools does, which does a simple binning. \n",
    "\n",
    "from scipy.interpolate import griddata\n",
    "# interpolate on pressure-time \n",
    "def interp_pres_time(ds_glid, var): \n",
    "    pres_ug = ds_glid.pressure\n",
    "    time_ug = ds_glid.days\n",
    "    \n",
    "    # convert to points values\n",
    "    points = np.stack([time_ug.values, pres_ug.values],\n",
    "                       axis=1)\n",
    "    values = ds_glid[var].values\n",
    "    \n",
    "    # remove nans\n",
    "    non_nan = np.logical_and(np.logical_and(~np.isnan(points[:,0]), \n",
    "                                      ~np.isnan(points[:,1])),\n",
    "                                      ~np.isnan(values))\n",
    "    \n",
    "    points =points[non_nan,:]\n",
    "    values =values[non_nan]\n",
    "    \n",
    "    # define grid\n",
    "    # choose grid size that smaller than most of the sampling points \n",
    "    # so we avoid aliasing in this step.\n",
    "    pres_grid = np.linspace(0,1000,2001) \n",
    "    time_grid = np.arange(119, 207, 0.025)\n",
    "    grid_p, grid_t = np.meshgrid(pres_grid, time_grid)\n",
    "    \n",
    "    temp_grided = griddata(points, values, \n",
    "                         (grid_t, grid_p), \n",
    "                         method='linear', rescale=True)\n",
    "    \n",
    "    return xr.DataArray(temp_grided.T, \n",
    "                               dims=[\"pressure\", \"time\"],\n",
    "                          coords={\"pressure\":pres_grid,\n",
    "                                    \"time\":time_grid}).rename(var)\n",
    "\n",
    "# apply to all useful glider variables \n",
    "# can later add in variables measured by other instruments too \n",
    "def convert_glider(ds_glid, vars_convert= ['temperature','salinity','potdens','spice']):\n",
    "    \n",
    "    #vars_convert = ['temperature','salinity','potdens']\n",
    "    \n",
    "    ds_grid = xr.Dataset()\n",
    "    \n",
    "    for v in vars_convert:\n",
    "            ds_grid[v] = interp_pres_time(ds_glid, v)\n",
    "    \n",
    "    return ds_grid"
   ]
  },
  {
   "cell_type": "code",
   "execution_count": 11,
   "metadata": {},
   "outputs": [],
   "source": [
    "# convert from point data to gridded data, can take some time\n",
    "ds_659_grid = convert_glider(ds_659)\n",
    "ds_660_grid = convert_glider(ds_660)"
   ]
  },
  {
   "cell_type": "code",
   "execution_count": null,
   "metadata": {},
   "outputs": [],
   "source": []
  },
  {
   "cell_type": "code",
   "execution_count": null,
   "metadata": {},
   "outputs": [],
   "source": []
  },
  {
   "cell_type": "code",
   "execution_count": null,
   "metadata": {},
   "outputs": [],
   "source": []
  }
 ],
 "metadata": {
  "kernelspec": {
   "display_name": "Python [conda env:sogos]",
   "language": "python",
   "name": "conda-env-sogos-py"
  },
  "language_info": {
   "codemirror_mode": {
    "name": "ipython",
    "version": 3
   },
   "file_extension": ".py",
   "mimetype": "text/x-python",
   "name": "python",
   "nbconvert_exporter": "python",
   "pygments_lexer": "ipython3",
   "version": "3.7.10"
  }
 },
 "nbformat": 4,
 "nbformat_minor": 4
}
