{
 "cells": [
  {
   "cell_type": "markdown",
   "id": "c814ec00",
   "metadata": {},
   "source": [
    "## Mixed layer tracer structure\n",
    "\n",
    "In this notebook we explore the structure of the mixed layer. The properties we look at are: \n",
    "- Homogeneity of the mixed layer as a function of time/space. \n",
    "- Are density gradients in the ML constructed by T or S, or both? \n"
   ]
  },
  {
   "cell_type": "code",
   "execution_count": 1,
   "id": "21b5fedf",
   "metadata": {},
   "outputs": [],
   "source": [
    "import numpy as np\n",
    "import xarray as xr\n",
    "\n",
    "import glidertools as gt\n",
    "from cmocean import cm as cmo\n",
    "\n",
    "import gsw\n",
    "\n",
    "import matplotlib.pyplot as plt"
   ]
  },
  {
   "cell_type": "code",
   "execution_count": null,
   "id": "7c38038a",
   "metadata": {},
   "outputs": [],
   "source": []
  },
  {
   "cell_type": "code",
   "execution_count": null,
   "id": "e18fb00d",
   "metadata": {},
   "outputs": [],
   "source": []
  }
 ],
 "metadata": {
  "kernelspec": {
   "display_name": "Python [conda env:sogos]",
   "language": "python",
   "name": "conda-env-sogos-py"
  },
  "language_info": {
   "codemirror_mode": {
    "name": "ipython",
    "version": 3
   },
   "file_extension": ".py",
   "mimetype": "text/x-python",
   "name": "python",
   "nbconvert_exporter": "python",
   "pygments_lexer": "ipython3",
   "version": "3.7.10"
  }
 },
 "nbformat": 4,
 "nbformat_minor": 5
}
