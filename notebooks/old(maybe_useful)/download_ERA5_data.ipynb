{
 "cells": [
  {
   "cell_type": "markdown",
   "metadata": {},
   "source": [
    "# ERA5 Data \n",
    "\n",
    "Data download was requested from \n",
    "https://cds.climate.copernicus.eu/cdsapp#!/dataset/reanalysis-era5-single-levels?tab=form\n",
    "\n",
    "*10m u-component of wind (m s-1)*: This parameter is the eastward component of the 10m wind. It is the horizontal speed of air moving towards the east, at a height of ten metres above the surface of the Earth, in metres per second. Care should be taken when comparing this parameter with observations, because wind observations vary on small space and time scales and are affected by the local terrain, vegetation and buildings that are represented only on average in the ECMWF Integrated Forecasting System (IFS). This parameter can be combined with the V component of 10m wind to give the speed and direction of the horizontal 10m wind.\n",
    "\n",
    "*10m v-component of wind (m s-1)*: This parameter is the northward component of the 10m wind. It is the horizontal speed of air moving towards the north, at a height of ten metres above the surface of the Earth, in metres per second. Care should be taken when comparing this parameter with observations, because wind observations vary on small space and time scales and are affected by the local terrain, vegetation and buildings that are represented only on average in the ECMWF Integrated Forecasting System (IFS). This parameter can be combined with the U component of 10m wind to give the speed and direction of the horizontal 10m wind.\n",
    "\n",
    "*Evaporation (m of water equivalent)*: This parameter is the accumulated amount of water that has evaporated from the Earth's surface, including a simplified representation of transpiration (from vegetation), into vapour in the air above. This parameter is accumulated over a particular time period which depends on the data extracted. The ECMWF Integrated Forecasting System (IFS) convention is that downward fluxes are positive. Therefore, negative values indicate evaporation and positive values indicate condensation.\n",
    "\n",
    "*Sea surface temperature (K)*: This parameter is the temperature of sea water near the surface. This parameter is taken from various providers, who process the observational data in different ways. Each provider uses data from several different observational sources. For example, satellites measure sea surface temperature (SST) in a layer a few microns thick in the uppermost mm of the ocean, drifting buoys measure SST at a depth of about 0.2-1.5m, whereas ships sample sea water down to about 10m, while the vessel is underway. Deeper measurements are not affected by changes that occur during a day, due to the rising and setting of the Sun (diurnal variations). Sometimes this parameter is taken from a forecast made by coupling the NEMO ocean model to the ECMWF Integrated Forecasting System (IFS). In this case, the SST is the average temperature of the uppermost metre of the ocean and does exhibit diurnal variations. This parameter has units of kelvin (K). Temperature measured in kelvin can be converted to degrees Celsius (°C) by subtracting 273.15.\n",
    "\n",
    "*Surface latent heat flux (J m-2)*: This parameter is the transfer of latent heat (resulting from water phase changes, such as evaporation or condensation) between the Earth's surface and the atmosphere through the effects of turbulent air motion. Evaporation from the Earth's surface represents a transfer of energy from the surface to the atmosphere. This parameter is accumulated over a particular time period which depends on the data extracted. The units are joules per square metre (J m-2 ). To convert to watts per square metre (W m-2 ), the accumulated values should be divided by the accumulation period expressed in seconds. The ECMWF convention for vertical fluxes is positive downwards.\n",
    "\n",
    "*Surface net solar radiation (J m-2)*: This parameter is the amount of solar radiation (also known as shortwave radiation) that reaches a horizontal plane at the surface of the Earth (both direct and diffuse) minus the amount reflected by the Earth's surface (which is governed by the albedo). Radiation from the Sun (solar, or shortwave, radiation) is partly reflected back to space by clouds and particles in the atmosphere (aerosols) and some of it is absorbed. The remainder is incident on the Earth's surface, where some of it is reflected. This parameter is accumulated over a particular time period which depends on the data extracted. The units are joules per square metre (J m-2 ). To convert to watts per square metre (W m-2 ), the accumulated values should be divided by the accumulation period expressed in seconds. The ECMWF convention for vertical fluxes is positive downwards.\n",
    "\n",
    "*Surface net thermal radiation (J m-2)*: Thermal radiation (also known as longwave or terrestrial radiation) refers to radiation emitted by the atmosphere, clouds and the surface of the Earth. This parameter is the difference between downward and upward thermal radiation at the surface of the Earth. It is the amount of radiation passing through a horizontal plane. The atmosphere and clouds emit thermal radiation in all directions, some of which reaches the surface as downward thermal radiation. The upward thermal radiation at the surface consists of thermal radiation emitted by the surface plus the fraction of downwards thermal radiation reflected upward by the surface. This parameter is accumulated over a particular time period which depends on the data extracted. The units are joules per square metre (J m-2 ). To convert to watts per square metre (W m-2 ), the accumulated values should be divided by the accumulation period expressed in seconds. The ECMWF convention for vertical fluxes is positive downwards.\n",
    "\n",
    "*Surface sensible heat flux (J m-2)*: This parameter is the transfer of heat between the Earth's surface and the atmosphere through the effects of turbulent air motion (but excluding any heat transfer resulting from condensation or evaporation). The magnitude of the sensible heat flux is governed by the difference in temperature between the surface and the overlying atmosphere, wind speed and the surface roughness. For example, cold air overlying a warm surface would produce a sensible heat flux from the land (or ocean) into the atmosphere. This parameter is accumulated over a particular time period which depends on the data extracted. The units are joules per square metre (J m-2 ). To convert to watts per square metre (W m-2 ), the accumulated values should be divided by the accumulation period expressed in seconds. The ECMWF convention for vertical fluxes is positive downwards.\n",
    "\n",
    "*Total precipitation (m)*: This parameter is the accumulated liquid and frozen water, comprising rain and snow, that falls to the Earth's surface. It is the sum of large-scale precipitation and convective precipitation. Large-scale precipitation is generated by the cloud scheme in the ECMWF Integrated Forecasting System (IFS). The cloud scheme represents the formation and dissipation of clouds and large-scale precipitation due to changes in atmospheric quantities (such as pressure, temperature and moisture) predicted directly by the IFS at spatial scales of the grid box or larger. Convective precipitation is generated by the convection scheme in the IFS, which represents convection at spatial scales smaller than the grid box. This parameter does not include fog, dew or the precipitation that evaporates in the atmosphere before it lands at the surface of the Earth. This parameter is the total amount of water accumulated over a particular time period which depends on the data extracted. The units of this parameter are depth in metres of water equivalent. It is the depth the water would have if it were spread evenly over the grid box. Care should be taken when comparing model parameters with observations, because observations are often local to a particular point in space and time, rather than representing averages over a model grid box."
   ]
  },
  {
   "cell_type": "code",
   "execution_count": 2,
   "metadata": {},
   "outputs": [],
   "source": [
    "import cdsapi"
   ]
  },
  {
   "cell_type": "code",
   "execution_count": 3,
   "metadata": {},
   "outputs": [
    {
     "name": "stderr",
     "output_type": "stream",
     "text": [
      "2020-10-03 13:45:24,420 INFO Welcome to the CDS\n",
      "2020-10-03 13:45:24,421 INFO Sending request to https://cds.climate.copernicus.eu/api/v2/resources/reanalysis-era5-single-levels\n",
      "2020-10-03 13:45:25,449 INFO Request is queued\n",
      "2020-10-03 13:45:26,671 INFO Request is running\n",
      "2020-10-03 13:55:49,110 INFO Request is completed\n",
      "2020-10-03 13:55:49,111 INFO Downloading http://136.156.133.32/cache-compute-0009/cache/data0/adaptor.mars.internal-1601757926.4859033-32712-21-33ff6c2d-6660-4a48-a5c2-e0f0f7844704.nc to download_winds.nc (186.8M)\n",
      "2020-10-03 13:56:38,415 INFO Download rate 3.8M/s  \n"
     ]
    },
    {
     "data": {
      "text/plain": [
       "Result(content_length=195875528,content_type=application/x-netcdf,location=http://136.156.133.32/cache-compute-0009/cache/data0/adaptor.mars.internal-1601757926.4859033-32712-21-33ff6c2d-6660-4a48-a5c2-e0f0f7844704.nc)"
      ]
     },
     "execution_count": 3,
     "metadata": {},
     "output_type": "execute_result"
    }
   ],
   "source": [
    "c = cdsapi.Client()\n",
    "\n",
    "c.retrieve(\n",
    "    'reanalysis-era5-single-levels',\n",
    "    {\n",
    "        'product_type': 'reanalysis',\n",
    "        'format': 'netcdf',\n",
    "        'variable': [\n",
    "            '10m_u_component_of_wind', '10m_v_component_of_wind',\n",
    "        ],\n",
    "        'year': '2019',\n",
    "        'month': ['01','02',\n",
    "            '03', '04', '05',\n",
    "            '06', '07', '08',\n",
    "            '09', '10', '11',\n",
    "            '12',\n",
    "        ],\n",
    "        'day': [\n",
    "            '01', '02', '03',\n",
    "            '04', '05', '06',\n",
    "            '07', '08', '09',\n",
    "            '10', '11', '12',\n",
    "            '13', '14', '15',\n",
    "            '16', '17', '18',\n",
    "            '19', '20', '21',\n",
    "            '22', '23', '24',\n",
    "            '25', '26', '27',\n",
    "            '28', '29', '30',\n",
    "            '31',\n",
    "        ],\n",
    "        'time': [\n",
    "            '00:00', '01:00', '02:00',\n",
    "            '03:00', '04:00', '05:00',\n",
    "            '06:00', '07:00', '08:00',\n",
    "            '09:00', '10:00', '11:00',\n",
    "            '12:00', '13:00', '14:00',\n",
    "            '15:00', '16:00', '17:00',\n",
    "            '18:00', '19:00', '20:00',\n",
    "            '21:00', '22:00', '23:00',\n",
    "        ],\n",
    "        'area': '-45/25/-62/45'\n",
    "    },\n",
    "    'download_winds.nc')"
   ]
  },
  {
   "cell_type": "code",
   "execution_count": 5,
   "metadata": {},
   "outputs": [
    {
     "name": "stderr",
     "output_type": "stream",
     "text": [
      "2020-10-03 15:12:38,561 INFO Welcome to the CDS\n",
      "2020-10-03 15:12:38,563 INFO Sending request to https://cds.climate.copernicus.eu/api/v2/resources/reanalysis-era5-single-levels\n",
      "2020-10-03 15:12:40,197 INFO Request is queued\n",
      "2020-10-03 15:12:43,272 INFO Request is running\n",
      "2020-10-03 15:25:03,811 INFO Request is completed\n",
      "2020-10-03 15:25:03,886 INFO Downloading http://136.156.133.46/cache-compute-0015/cache/data8/adaptor.mars.internal-1601763161.8975668-32661-19-36beb008-ffcd-46c3-8ad9-d910a4a8e9c4.nc to download_SST.nc (93.4M)\n",
      "2020-10-03 15:25:22,959 INFO Download rate 4.9M/s   \n"
     ]
    },
    {
     "data": {
      "text/plain": [
       "Result(content_length=97955988,content_type=application/x-netcdf,location=http://136.156.133.46/cache-compute-0015/cache/data8/adaptor.mars.internal-1601763161.8975668-32661-19-36beb008-ffcd-46c3-8ad9-d910a4a8e9c4.nc)"
      ]
     },
     "execution_count": 5,
     "metadata": {},
     "output_type": "execute_result"
    }
   ],
   "source": [
    "c = cdsapi.Client()\n",
    "\n",
    "c.retrieve(\n",
    "    'reanalysis-era5-single-levels',\n",
    "    {\n",
    "        'product_type': 'reanalysis',\n",
    "        'format': 'netcdf',\n",
    "        'variable': [\n",
    "            'sea_surface_temperature',\n",
    "        ],\n",
    "        'year': '2019',\n",
    "        'month': ['01','02',\n",
    "            '03', '04', '05',\n",
    "            '06', '07', '08',\n",
    "            '09', '10', '11',\n",
    "            '12',\n",
    "        ],\n",
    "        'day': [\n",
    "            '01', '02', '03',\n",
    "            '04', '05', '06',\n",
    "            '07', '08', '09',\n",
    "            '10', '11', '12',\n",
    "            '13', '14', '15',\n",
    "            '16', '17', '18',\n",
    "            '19', '20', '21',\n",
    "            '22', '23', '24',\n",
    "            '25', '26', '27',\n",
    "            '28', '29', '30',\n",
    "            '31',\n",
    "        ],\n",
    "        'time': [\n",
    "            '00:00', '01:00', '02:00',\n",
    "            '03:00', '04:00', '05:00',\n",
    "            '06:00', '07:00', '08:00',\n",
    "            '09:00', '10:00', '11:00',\n",
    "            '12:00', '13:00', '14:00',\n",
    "            '15:00', '16:00', '17:00',\n",
    "            '18:00', '19:00', '20:00',\n",
    "            '21:00', '22:00', '23:00',\n",
    "        ],\n",
    "        'area': '-45/25/-62/45'\n",
    "    },\n",
    "    'download_SST.nc')"
   ]
  },
  {
   "cell_type": "code",
   "execution_count": 4,
   "metadata": {},
   "outputs": [
    {
     "name": "stderr",
     "output_type": "stream",
     "text": [
      "2020-10-03 13:56:39,187 INFO Welcome to the CDS\n",
      "2020-10-03 13:56:39,189 INFO Sending request to https://cds.climate.copernicus.eu/api/v2/resources/reanalysis-era5-single-levels\n",
      "2020-10-03 13:56:40,488 INFO Request is queued\n",
      "2020-10-03 13:56:41,692 INFO Request is running\n",
      "2020-10-03 15:07:29,311 INFO Request is completed\n",
      "2020-10-03 15:07:29,343 INFO Downloading http://136.156.132.210/cache-compute-0005/cache/data8/adaptor.mars.internal-1601758600.560012-10879-3-b6ca91be-6d65-405f-952e-91c9049434d2.nc to download_surf_flux.nc (560.3M)\n",
      "2020-10-03 15:09:51,714 INFO Download rate 3.9M/s    \n"
     ]
    },
    {
     "data": {
      "text/plain": [
       "Result(content_length=587553964,content_type=application/x-netcdf,location=http://136.156.132.210/cache-compute-0005/cache/data8/adaptor.mars.internal-1601758600.560012-10879-3-b6ca91be-6d65-405f-952e-91c9049434d2.nc)"
      ]
     },
     "execution_count": 4,
     "metadata": {},
     "output_type": "execute_result"
    }
   ],
   "source": [
    "c = cdsapi.Client()\n",
    "\n",
    "c.retrieve(\n",
    "    'reanalysis-era5-single-levels',\n",
    "    {\n",
    "        'product_type': 'reanalysis',\n",
    "        'format': 'netcdf',\n",
    "        'variable': [\n",
    "            'evaporation', 'surface_latent_heat_flux', 'surface_net_solar_radiation',\n",
    "            'surface_net_thermal_radiation', 'surface_sensible_heat_flux', 'total_precipitation',\n",
    "        ],\n",
    "        'year': '2019',\n",
    "        'month': ['01','02',\n",
    "            '03', '04', '05',\n",
    "            '06', '07', '08',\n",
    "            '09', '10', '11',\n",
    "            '12',\n",
    "        ],\n",
    "        'day': [\n",
    "            '01', '02', '03',\n",
    "            '04', '05', '06',\n",
    "            '07', '08', '09',\n",
    "            '10', '11', '12',\n",
    "            '13', '14', '15',\n",
    "            '16', '17', '18',\n",
    "            '19', '20', '21',\n",
    "            '22', '23', '24',\n",
    "            '25', '26', '27',\n",
    "            '28', '29', '30',\n",
    "            '31',\n",
    "        ],\n",
    "        'time': [\n",
    "            '00:00', '01:00', '02:00',\n",
    "            '03:00', '04:00', '05:00',\n",
    "            '06:00', '07:00', '08:00',\n",
    "            '09:00', '10:00', '11:00',\n",
    "            '12:00', '13:00', '14:00',\n",
    "            '15:00', '16:00', '17:00',\n",
    "            '18:00', '19:00', '20:00',\n",
    "            '21:00', '22:00', '23:00',\n",
    "        ],\n",
    "        'area': '-45/25/-62/45'\n",
    "    },\n",
    "    'download_surf_flux.nc')"
   ]
  },
  {
   "cell_type": "code",
   "execution_count": null,
   "metadata": {},
   "outputs": [],
   "source": []
  },
  {
   "cell_type": "code",
   "execution_count": null,
   "metadata": {},
   "outputs": [],
   "source": []
  }
 ],
 "metadata": {
  "kernelspec": {
   "display_name": "Python [conda env:sogos]",
   "language": "python",
   "name": "conda-env-sogos-py"
  },
  "language_info": {
   "codemirror_mode": {
    "name": "ipython",
    "version": 3
   },
   "file_extension": ".py",
   "mimetype": "text/x-python",
   "name": "python",
   "nbconvert_exporter": "python",
   "pygments_lexer": "ipython3",
   "version": "3.7.9"
  }
 },
 "nbformat": 4,
 "nbformat_minor": 4
}
