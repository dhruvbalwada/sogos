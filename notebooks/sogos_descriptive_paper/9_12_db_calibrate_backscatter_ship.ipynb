{
 "cells": [
  {
   "cell_type": "markdown",
   "metadata": {},
   "source": [
    "### Calibrate Backscatter data on ship\n",
    "\n",
    "The ship based backscatter from I6S is not same units as floats. "
   ]
  },
  {
   "cell_type": "code",
   "execution_count": 8,
   "metadata": {},
   "outputs": [],
   "source": [
    "import numpy as np\n",
    "import gsw\n",
    "import xarray as xr\n",
    "import matplotlib.pyplot as plt"
   ]
  },
  {
   "cell_type": "code",
   "execution_count": 3,
   "metadata": {},
   "outputs": [],
   "source": [
    "import os"
   ]
  },
  {
   "cell_type": "code",
   "execution_count": 6,
   "metadata": {},
   "outputs": [],
   "source": [
    "from scipy.signal import medfilt\n",
    "from scipy.ndimage import  minimum_filter1d, maximum_filter1d"
   ]
  },
  {
   "cell_type": "code",
   "execution_count": 4,
   "metadata": {},
   "outputs": [],
   "source": [
    "# Cruise data \n",
    "data_folder = data_dir + \"data/raw/cruise/325020190403_nc_ctd/\"\n",
    "file_names = sorted(os.listdir(data_folder))"
   ]
  },
  {
   "cell_type": "code",
   "execution_count": 5,
   "metadata": {},
   "outputs": [],
   "source": [
    "cruise_dic = {}\n",
    "for count, fil in enumerate(file_names):\n",
    "    cruise_dic[count] = xr.open_dataset(data_folder + fil)"
   ]
  },
  {
   "cell_type": "code",
   "execution_count": 57,
   "metadata": {},
   "outputs": [
    {
     "data": {
      "text/html": [
       "<div><svg style=\"position: absolute; width: 0; height: 0; overflow: hidden\">\n",
       "<defs>\n",
       "<symbol id=\"icon-database\" viewBox=\"0 0 32 32\">\n",
       "<path d=\"M16 0c-8.837 0-16 2.239-16 5v4c0 2.761 7.163 5 16 5s16-2.239 16-5v-4c0-2.761-7.163-5-16-5z\"></path>\n",
       "<path d=\"M16 17c-8.837 0-16-2.239-16-5v6c0 2.761 7.163 5 16 5s16-2.239 16-5v-6c0 2.761-7.163 5-16 5z\"></path>\n",
       "<path d=\"M16 26c-8.837 0-16-2.239-16-5v6c0 2.761 7.163 5 16 5s16-2.239 16-5v-6c0 2.761-7.163 5-16 5z\"></path>\n",
       "</symbol>\n",
       "<symbol id=\"icon-file-text2\" viewBox=\"0 0 32 32\">\n",
       "<path d=\"M28.681 7.159c-0.694-0.947-1.662-2.053-2.724-3.116s-2.169-2.030-3.116-2.724c-1.612-1.182-2.393-1.319-2.841-1.319h-15.5c-1.378 0-2.5 1.121-2.5 2.5v27c0 1.378 1.122 2.5 2.5 2.5h23c1.378 0 2.5-1.122 2.5-2.5v-19.5c0-0.448-0.137-1.23-1.319-2.841zM24.543 5.457c0.959 0.959 1.712 1.825 2.268 2.543h-4.811v-4.811c0.718 0.556 1.584 1.309 2.543 2.268zM28 29.5c0 0.271-0.229 0.5-0.5 0.5h-23c-0.271 0-0.5-0.229-0.5-0.5v-27c0-0.271 0.229-0.5 0.5-0.5 0 0 15.499-0 15.5 0v7c0 0.552 0.448 1 1 1h7v19.5z\"></path>\n",
       "<path d=\"M23 26h-14c-0.552 0-1-0.448-1-1s0.448-1 1-1h14c0.552 0 1 0.448 1 1s-0.448 1-1 1z\"></path>\n",
       "<path d=\"M23 22h-14c-0.552 0-1-0.448-1-1s0.448-1 1-1h14c0.552 0 1 0.448 1 1s-0.448 1-1 1z\"></path>\n",
       "<path d=\"M23 18h-14c-0.552 0-1-0.448-1-1s0.448-1 1-1h14c0.552 0 1 0.448 1 1s-0.448 1-1 1z\"></path>\n",
       "</symbol>\n",
       "</defs>\n",
       "</svg>\n",
       "<style>/* CSS stylesheet for displaying xarray objects in jupyterlab.\n",
       " *\n",
       " */\n",
       "\n",
       ":root {\n",
       "  --xr-font-color0: var(--jp-content-font-color0, rgba(0, 0, 0, 1));\n",
       "  --xr-font-color2: var(--jp-content-font-color2, rgba(0, 0, 0, 0.54));\n",
       "  --xr-font-color3: var(--jp-content-font-color3, rgba(0, 0, 0, 0.38));\n",
       "  --xr-border-color: var(--jp-border-color2, #e0e0e0);\n",
       "  --xr-disabled-color: var(--jp-layout-color3, #bdbdbd);\n",
       "  --xr-background-color: var(--jp-layout-color0, white);\n",
       "  --xr-background-color-row-even: var(--jp-layout-color1, white);\n",
       "  --xr-background-color-row-odd: var(--jp-layout-color2, #eeeeee);\n",
       "}\n",
       "\n",
       "html[theme=dark],\n",
       "body.vscode-dark {\n",
       "  --xr-font-color0: rgba(255, 255, 255, 1);\n",
       "  --xr-font-color2: rgba(255, 255, 255, 0.54);\n",
       "  --xr-font-color3: rgba(255, 255, 255, 0.38);\n",
       "  --xr-border-color: #1F1F1F;\n",
       "  --xr-disabled-color: #515151;\n",
       "  --xr-background-color: #111111;\n",
       "  --xr-background-color-row-even: #111111;\n",
       "  --xr-background-color-row-odd: #313131;\n",
       "}\n",
       "\n",
       ".xr-wrap {\n",
       "  display: block;\n",
       "  min-width: 300px;\n",
       "  max-width: 700px;\n",
       "}\n",
       "\n",
       ".xr-text-repr-fallback {\n",
       "  /* fallback to plain text repr when CSS is not injected (untrusted notebook) */\n",
       "  display: none;\n",
       "}\n",
       "\n",
       ".xr-header {\n",
       "  padding-top: 6px;\n",
       "  padding-bottom: 6px;\n",
       "  margin-bottom: 4px;\n",
       "  border-bottom: solid 1px var(--xr-border-color);\n",
       "}\n",
       "\n",
       ".xr-header > div,\n",
       ".xr-header > ul {\n",
       "  display: inline;\n",
       "  margin-top: 0;\n",
       "  margin-bottom: 0;\n",
       "}\n",
       "\n",
       ".xr-obj-type,\n",
       ".xr-array-name {\n",
       "  margin-left: 2px;\n",
       "  margin-right: 10px;\n",
       "}\n",
       "\n",
       ".xr-obj-type {\n",
       "  color: var(--xr-font-color2);\n",
       "}\n",
       "\n",
       ".xr-sections {\n",
       "  padding-left: 0 !important;\n",
       "  display: grid;\n",
       "  grid-template-columns: 150px auto auto 1fr 20px 20px;\n",
       "}\n",
       "\n",
       ".xr-section-item {\n",
       "  display: contents;\n",
       "}\n",
       "\n",
       ".xr-section-item input {\n",
       "  display: none;\n",
       "}\n",
       "\n",
       ".xr-section-item input + label {\n",
       "  color: var(--xr-disabled-color);\n",
       "}\n",
       "\n",
       ".xr-section-item input:enabled + label {\n",
       "  cursor: pointer;\n",
       "  color: var(--xr-font-color2);\n",
       "}\n",
       "\n",
       ".xr-section-item input:enabled + label:hover {\n",
       "  color: var(--xr-font-color0);\n",
       "}\n",
       "\n",
       ".xr-section-summary {\n",
       "  grid-column: 1;\n",
       "  color: var(--xr-font-color2);\n",
       "  font-weight: 500;\n",
       "}\n",
       "\n",
       ".xr-section-summary > span {\n",
       "  display: inline-block;\n",
       "  padding-left: 0.5em;\n",
       "}\n",
       "\n",
       ".xr-section-summary-in:disabled + label {\n",
       "  color: var(--xr-font-color2);\n",
       "}\n",
       "\n",
       ".xr-section-summary-in + label:before {\n",
       "  display: inline-block;\n",
       "  content: '►';\n",
       "  font-size: 11px;\n",
       "  width: 15px;\n",
       "  text-align: center;\n",
       "}\n",
       "\n",
       ".xr-section-summary-in:disabled + label:before {\n",
       "  color: var(--xr-disabled-color);\n",
       "}\n",
       "\n",
       ".xr-section-summary-in:checked + label:before {\n",
       "  content: '▼';\n",
       "}\n",
       "\n",
       ".xr-section-summary-in:checked + label > span {\n",
       "  display: none;\n",
       "}\n",
       "\n",
       ".xr-section-summary,\n",
       ".xr-section-inline-details {\n",
       "  padding-top: 4px;\n",
       "  padding-bottom: 4px;\n",
       "}\n",
       "\n",
       ".xr-section-inline-details {\n",
       "  grid-column: 2 / -1;\n",
       "}\n",
       "\n",
       ".xr-section-details {\n",
       "  display: none;\n",
       "  grid-column: 1 / -1;\n",
       "  margin-bottom: 5px;\n",
       "}\n",
       "\n",
       ".xr-section-summary-in:checked ~ .xr-section-details {\n",
       "  display: contents;\n",
       "}\n",
       "\n",
       ".xr-array-wrap {\n",
       "  grid-column: 1 / -1;\n",
       "  display: grid;\n",
       "  grid-template-columns: 20px auto;\n",
       "}\n",
       "\n",
       ".xr-array-wrap > label {\n",
       "  grid-column: 1;\n",
       "  vertical-align: top;\n",
       "}\n",
       "\n",
       ".xr-preview {\n",
       "  color: var(--xr-font-color3);\n",
       "}\n",
       "\n",
       ".xr-array-preview,\n",
       ".xr-array-data {\n",
       "  padding: 0 5px !important;\n",
       "  grid-column: 2;\n",
       "}\n",
       "\n",
       ".xr-array-data,\n",
       ".xr-array-in:checked ~ .xr-array-preview {\n",
       "  display: none;\n",
       "}\n",
       "\n",
       ".xr-array-in:checked ~ .xr-array-data,\n",
       ".xr-array-preview {\n",
       "  display: inline-block;\n",
       "}\n",
       "\n",
       ".xr-dim-list {\n",
       "  display: inline-block !important;\n",
       "  list-style: none;\n",
       "  padding: 0 !important;\n",
       "  margin: 0;\n",
       "}\n",
       "\n",
       ".xr-dim-list li {\n",
       "  display: inline-block;\n",
       "  padding: 0;\n",
       "  margin: 0;\n",
       "}\n",
       "\n",
       ".xr-dim-list:before {\n",
       "  content: '(';\n",
       "}\n",
       "\n",
       ".xr-dim-list:after {\n",
       "  content: ')';\n",
       "}\n",
       "\n",
       ".xr-dim-list li:not(:last-child):after {\n",
       "  content: ',';\n",
       "  padding-right: 5px;\n",
       "}\n",
       "\n",
       ".xr-has-index {\n",
       "  font-weight: bold;\n",
       "}\n",
       "\n",
       ".xr-var-list,\n",
       ".xr-var-item {\n",
       "  display: contents;\n",
       "}\n",
       "\n",
       ".xr-var-item > div,\n",
       ".xr-var-item label,\n",
       ".xr-var-item > .xr-var-name span {\n",
       "  background-color: var(--xr-background-color-row-even);\n",
       "  margin-bottom: 0;\n",
       "}\n",
       "\n",
       ".xr-var-item > .xr-var-name:hover span {\n",
       "  padding-right: 5px;\n",
       "}\n",
       "\n",
       ".xr-var-list > li:nth-child(odd) > div,\n",
       ".xr-var-list > li:nth-child(odd) > label,\n",
       ".xr-var-list > li:nth-child(odd) > .xr-var-name span {\n",
       "  background-color: var(--xr-background-color-row-odd);\n",
       "}\n",
       "\n",
       ".xr-var-name {\n",
       "  grid-column: 1;\n",
       "}\n",
       "\n",
       ".xr-var-dims {\n",
       "  grid-column: 2;\n",
       "}\n",
       "\n",
       ".xr-var-dtype {\n",
       "  grid-column: 3;\n",
       "  text-align: right;\n",
       "  color: var(--xr-font-color2);\n",
       "}\n",
       "\n",
       ".xr-var-preview {\n",
       "  grid-column: 4;\n",
       "}\n",
       "\n",
       ".xr-var-name,\n",
       ".xr-var-dims,\n",
       ".xr-var-dtype,\n",
       ".xr-preview,\n",
       ".xr-attrs dt {\n",
       "  white-space: nowrap;\n",
       "  overflow: hidden;\n",
       "  text-overflow: ellipsis;\n",
       "  padding-right: 10px;\n",
       "}\n",
       "\n",
       ".xr-var-name:hover,\n",
       ".xr-var-dims:hover,\n",
       ".xr-var-dtype:hover,\n",
       ".xr-attrs dt:hover {\n",
       "  overflow: visible;\n",
       "  width: auto;\n",
       "  z-index: 1;\n",
       "}\n",
       "\n",
       ".xr-var-attrs,\n",
       ".xr-var-data {\n",
       "  display: none;\n",
       "  background-color: var(--xr-background-color) !important;\n",
       "  padding-bottom: 5px !important;\n",
       "}\n",
       "\n",
       ".xr-var-attrs-in:checked ~ .xr-var-attrs,\n",
       ".xr-var-data-in:checked ~ .xr-var-data {\n",
       "  display: block;\n",
       "}\n",
       "\n",
       ".xr-var-data > table {\n",
       "  float: right;\n",
       "}\n",
       "\n",
       ".xr-var-name span,\n",
       ".xr-var-data,\n",
       ".xr-attrs {\n",
       "  padding-left: 25px !important;\n",
       "}\n",
       "\n",
       ".xr-attrs,\n",
       ".xr-var-attrs,\n",
       ".xr-var-data {\n",
       "  grid-column: 1 / -1;\n",
       "}\n",
       "\n",
       "dl.xr-attrs {\n",
       "  padding: 0;\n",
       "  margin: 0;\n",
       "  display: grid;\n",
       "  grid-template-columns: 125px auto;\n",
       "}\n",
       "\n",
       ".xr-attrs dt, dd {\n",
       "  padding: 0;\n",
       "  margin: 0;\n",
       "  float: left;\n",
       "  padding-right: 10px;\n",
       "  width: auto;\n",
       "}\n",
       "\n",
       ".xr-attrs dt {\n",
       "  font-weight: normal;\n",
       "  grid-column: 1;\n",
       "}\n",
       "\n",
       ".xr-attrs dt:hover span {\n",
       "  display: inline-block;\n",
       "  background: var(--xr-background-color);\n",
       "  padding-right: 10px;\n",
       "}\n",
       "\n",
       ".xr-attrs dd {\n",
       "  grid-column: 2;\n",
       "  white-space: pre-wrap;\n",
       "  word-break: break-all;\n",
       "}\n",
       "\n",
       ".xr-icon-database,\n",
       ".xr-icon-file-text2 {\n",
       "  display: inline-block;\n",
       "  vertical-align: middle;\n",
       "  width: 1em;\n",
       "  height: 1.5em !important;\n",
       "  stroke-width: 0;\n",
       "  stroke: currentColor;\n",
       "  fill: currentColor;\n",
       "}\n",
       "</style><pre class='xr-text-repr-fallback'>&lt;xarray.Dataset&gt;\n",
       "Dimensions:          (latitude: 1, longitude: 1, pressure: 2073, time: 1)\n",
       "Coordinates:\n",
       "  * pressure         (pressure) float64 0.0 2.0 4.0 ... 4.142e+03 4.144e+03\n",
       "  * time             (time) datetime64[ns] 2019-04-17T21:49:00\n",
       "  * latitude         (latitude) float32 -66.99944\n",
       "  * longitude        (longitude) float32 30.0003\n",
       "Data variables:\n",
       "    pressure_QC      (pressure) int16 6 2 2 2 2 2 2 2 2 2 ... 2 2 2 2 2 2 2 2 2\n",
       "    temperature      (pressure) float64 -1.216 -1.216 -1.216 ... -0.3019 -0.3019\n",
       "    temperature_QC   (pressure) int16 6 2 2 2 2 2 2 2 2 2 ... 2 2 2 2 2 2 2 2 2\n",
       "    salinity         (pressure) float64 34.01 34.01 34.01 ... 34.65 34.65 34.65\n",
       "    salinity_QC      (pressure) int16 6 2 2 2 2 2 2 2 2 2 ... 2 2 2 2 2 2 2 2 2\n",
       "    oxygen           (pressure) float64 327.9 327.9 327.7 ... 240.6 240.6 240.6\n",
       "    oxygen_QC        (pressure) int16 6 2 2 2 2 2 2 2 2 2 ... 2 2 2 2 2 2 2 2 2\n",
       "    CTDXMISS         (pressure) float64 4.554 4.554 4.554 ... 4.634 4.634 4.634\n",
       "    CTDXMISS_QC      (pressure) int16 6 1 1 1 1 1 1 1 1 1 ... 1 1 1 1 1 1 1 1 1\n",
       "    CTDFLUOR         (pressure) float64 0.2707 0.2707 0.2693 ... 0.0615 0.0616\n",
       "    CTDFLUOR_QC      (pressure) int16 6 1 1 1 1 1 1 1 1 1 ... 1 1 1 1 1 1 1 1 1\n",
       "    CTDBBP700RAW     (pressure) float64 0.2261 0.2261 0.2274 ... 0.1442 0.1452\n",
       "    CTDBBP700RAW_QC  (pressure) int16 6 1 1 1 1 1 1 1 1 1 ... 1 1 1 1 1 1 1 1 1\n",
       "    woce_date        (time) int32 20190417\n",
       "    woce_time        (time) int16 2149\n",
       "    station          |S40 b&#x27;11                                      &#x27;\n",
       "    cast             |S40 b&#x27;1                                       &#x27;\n",
       "Attributes:\n",
       "    EXPOCODE:                   325020190403\n",
       "    Conventions:                COARDS/WOCE\n",
       "    WOCE_VERSION:               3.0\n",
       "    WOCE_ID:                    I06S\n",
       "    DATA_TYPE:                  WOCE CTD\n",
       "    STATION_NUMBER:             11\n",
       "    CAST_NUMBER:                1\n",
       "    BOTTOM_DEPTH_METERS:        4182\n",
       "    Creation_Time:              2019-06-28T16:39:30.204264Z\n",
       "    ORIGINAL_HEADER:            CTD,20190628CCHSIO\\n# SHIP: Thomas G. Thompso...\n",
       "    WOCE_CTD_FLAG_DESCRIPTION:  ::1 = Not calibrated:2 = Acceptable measureme...</pre><div class='xr-wrap' hidden><div class='xr-header'><div class='xr-obj-type'>xarray.Dataset</div></div><ul class='xr-sections'><li class='xr-section-item'><input id='section-66848782-3bd8-492d-a737-be23400e4fac' class='xr-section-summary-in' type='checkbox' disabled ><label for='section-66848782-3bd8-492d-a737-be23400e4fac' class='xr-section-summary'  title='Expand/collapse section'>Dimensions:</label><div class='xr-section-inline-details'><ul class='xr-dim-list'><li><span class='xr-has-index'>latitude</span>: 1</li><li><span class='xr-has-index'>longitude</span>: 1</li><li><span class='xr-has-index'>pressure</span>: 2073</li><li><span class='xr-has-index'>time</span>: 1</li></ul></div><div class='xr-section-details'></div></li><li class='xr-section-item'><input id='section-6e090e35-2f6f-4611-910a-86cfbff91eb0' class='xr-section-summary-in' type='checkbox'  checked><label for='section-6e090e35-2f6f-4611-910a-86cfbff91eb0' class='xr-section-summary' >Coordinates: <span>(4)</span></label><div class='xr-section-inline-details'></div><div class='xr-section-details'><ul class='xr-var-list'><li class='xr-var-item'><div class='xr-var-name'><span class='xr-has-index'>pressure</span></div><div class='xr-var-dims'>(pressure)</div><div class='xr-var-dtype'>float64</div><div class='xr-var-preview xr-preview'>0.0 2.0 4.0 ... 4.142e+03 4.144e+03</div><input id='attrs-34a94031-3709-4346-8720-909b229fc9de' class='xr-var-attrs-in' type='checkbox' ><label for='attrs-34a94031-3709-4346-8720-909b229fc9de' title='Show/Hide attributes'><svg class='icon xr-icon-file-text2'><use xlink:href='#icon-file-text2'></use></svg></label><input id='data-72554542-fe41-49c9-afcf-c5855866f023' class='xr-var-data-in' type='checkbox'><label for='data-72554542-fe41-49c9-afcf-c5855866f023' title='Show/Hide data repr'><svg class='icon xr-icon-database'><use xlink:href='#icon-database'></use></svg></label><div class='xr-var-attrs'><dl class='xr-attrs'><dt><span>long_name :</span></dt><dd>pressure</dd><dt><span>positive :</span></dt><dd>down</dd><dt><span>units :</span></dt><dd>decibar</dd><dt><span>data_min :</span></dt><dd>2.0</dd><dt><span>data_max :</span></dt><dd>4144.0</dd><dt><span>C_format :</span></dt><dd>%8.1f</dd><dt><span>WHPO_Variable_Name :</span></dt><dd>CTDPRS</dd><dt><span>OBS_QC_VARIABLE :</span></dt><dd>pressure_QC</dd></dl></div><div class='xr-var-data'><pre>array([0.000e+00, 2.000e+00, 4.000e+00, ..., 4.140e+03, 4.142e+03, 4.144e+03])</pre></div></li><li class='xr-var-item'><div class='xr-var-name'><span class='xr-has-index'>time</span></div><div class='xr-var-dims'>(time)</div><div class='xr-var-dtype'>datetime64[ns]</div><div class='xr-var-preview xr-preview'>2019-04-17T21:49:00</div><input id='attrs-29d4bdfd-fc74-419e-a59d-1b725bd4a981' class='xr-var-attrs-in' type='checkbox' ><label for='attrs-29d4bdfd-fc74-419e-a59d-1b725bd4a981' title='Show/Hide attributes'><svg class='icon xr-icon-file-text2'><use xlink:href='#icon-file-text2'></use></svg></label><input id='data-f013e3a7-58de-4780-ad63-f9bbac00b3b6' class='xr-var-data-in' type='checkbox'><label for='data-f013e3a7-58de-4780-ad63-f9bbac00b3b6' title='Show/Hide data repr'><svg class='icon xr-icon-database'><use xlink:href='#icon-database'></use></svg></label><div class='xr-var-attrs'><dl class='xr-attrs'><dt><span>long_name :</span></dt><dd>time</dd><dt><span>data_min :</span></dt><dd>20666749</dd><dt><span>data_max :</span></dt><dd>20666749</dd><dt><span>C_format :</span></dt><dd>%10d</dd></dl></div><div class='xr-var-data'><pre>array([&#x27;2019-04-17T21:49:00.000000000&#x27;], dtype=&#x27;datetime64[ns]&#x27;)</pre></div></li><li class='xr-var-item'><div class='xr-var-name'><span class='xr-has-index'>latitude</span></div><div class='xr-var-dims'>(latitude)</div><div class='xr-var-dtype'>float32</div><div class='xr-var-preview xr-preview'>-66.99944</div><input id='attrs-2b003197-c8ad-466c-ad92-5b014324a170' class='xr-var-attrs-in' type='checkbox' ><label for='attrs-2b003197-c8ad-466c-ad92-5b014324a170' title='Show/Hide attributes'><svg class='icon xr-icon-file-text2'><use xlink:href='#icon-file-text2'></use></svg></label><input id='data-4f4279ae-9e58-4c5d-8a09-98b80bc17958' class='xr-var-data-in' type='checkbox'><label for='data-4f4279ae-9e58-4c5d-8a09-98b80bc17958' title='Show/Hide data repr'><svg class='icon xr-icon-database'><use xlink:href='#icon-database'></use></svg></label><div class='xr-var-attrs'><dl class='xr-attrs'><dt><span>long_name :</span></dt><dd>latitude</dd><dt><span>units :</span></dt><dd>degrees_N</dd><dt><span>data_min :</span></dt><dd>-66.99944</dd><dt><span>data_max :</span></dt><dd>-66.99944</dd><dt><span>C_format :</span></dt><dd>%9.4f</dd></dl></div><div class='xr-var-data'><pre>array([-66.99944], dtype=float32)</pre></div></li><li class='xr-var-item'><div class='xr-var-name'><span class='xr-has-index'>longitude</span></div><div class='xr-var-dims'>(longitude)</div><div class='xr-var-dtype'>float32</div><div class='xr-var-preview xr-preview'>30.0003</div><input id='attrs-eaf56103-ac1b-400f-b8be-64558ffdd5db' class='xr-var-attrs-in' type='checkbox' ><label for='attrs-eaf56103-ac1b-400f-b8be-64558ffdd5db' title='Show/Hide attributes'><svg class='icon xr-icon-file-text2'><use xlink:href='#icon-file-text2'></use></svg></label><input id='data-8d4b01db-9754-4882-bca4-550d729aff4d' class='xr-var-data-in' type='checkbox'><label for='data-8d4b01db-9754-4882-bca4-550d729aff4d' title='Show/Hide data repr'><svg class='icon xr-icon-database'><use xlink:href='#icon-database'></use></svg></label><div class='xr-var-attrs'><dl class='xr-attrs'><dt><span>long_name :</span></dt><dd>longitude</dd><dt><span>units :</span></dt><dd>degrees_E</dd><dt><span>data_min :</span></dt><dd>30.0003</dd><dt><span>data_max :</span></dt><dd>30.0003</dd><dt><span>C_format :</span></dt><dd>%9.4f</dd></dl></div><div class='xr-var-data'><pre>array([30.0003], dtype=float32)</pre></div></li></ul></div></li><li class='xr-section-item'><input id='section-47f2975b-99e8-459c-8c56-670eeca42f53' class='xr-section-summary-in' type='checkbox'  ><label for='section-47f2975b-99e8-459c-8c56-670eeca42f53' class='xr-section-summary' >Data variables: <span>(17)</span></label><div class='xr-section-inline-details'></div><div class='xr-section-details'><ul class='xr-var-list'><li class='xr-var-item'><div class='xr-var-name'><span>pressure_QC</span></div><div class='xr-var-dims'>(pressure)</div><div class='xr-var-dtype'>int16</div><div class='xr-var-preview xr-preview'>...</div><input id='attrs-f9e44f09-29e8-4a33-bcb1-818eccf262c5' class='xr-var-attrs-in' type='checkbox' ><label for='attrs-f9e44f09-29e8-4a33-bcb1-818eccf262c5' title='Show/Hide attributes'><svg class='icon xr-icon-file-text2'><use xlink:href='#icon-file-text2'></use></svg></label><input id='data-25f5690b-3f38-4359-be9a-ab239127a99e' class='xr-var-data-in' type='checkbox'><label for='data-25f5690b-3f38-4359-be9a-ab239127a99e' title='Show/Hide data repr'><svg class='icon xr-icon-database'><use xlink:href='#icon-database'></use></svg></label><div class='xr-var-attrs'><dl class='xr-attrs'><dt><span>long_name :</span></dt><dd>pressure_QC_flag</dd><dt><span>units :</span></dt><dd>woce_flags</dd><dt><span>C_format :</span></dt><dd>%1d</dd></dl></div><div class='xr-var-data'><pre>array([6, 2, 2, ..., 2, 2, 2], dtype=int16)</pre></div></li><li class='xr-var-item'><div class='xr-var-name'><span>temperature</span></div><div class='xr-var-dims'>(pressure)</div><div class='xr-var-dtype'>float64</div><div class='xr-var-preview xr-preview'>...</div><input id='attrs-85baf6d0-5260-43be-b611-a8187e86bb89' class='xr-var-attrs-in' type='checkbox' ><label for='attrs-85baf6d0-5260-43be-b611-a8187e86bb89' title='Show/Hide attributes'><svg class='icon xr-icon-file-text2'><use xlink:href='#icon-file-text2'></use></svg></label><input id='data-62409a00-698c-46ab-9362-49c984feddc8' class='xr-var-data-in' type='checkbox'><label for='data-62409a00-698c-46ab-9362-49c984feddc8' title='Show/Hide data repr'><svg class='icon xr-icon-database'><use xlink:href='#icon-database'></use></svg></label><div class='xr-var-attrs'><dl class='xr-attrs'><dt><span>long_name :</span></dt><dd>temperature</dd><dt><span>units :</span></dt><dd>?C (ITS-90)</dd><dt><span>data_min :</span></dt><dd>-1.2337</dd><dt><span>data_max :</span></dt><dd>1.1172</dd><dt><span>C_format :</span></dt><dd>%8.4f</dd><dt><span>WHPO_Variable_Name :</span></dt><dd>CTDTMP</dd><dt><span>OBS_QC_VARIABLE :</span></dt><dd>temperature_QC</dd></dl></div><div class='xr-var-data'><pre>array([-1.216 , -1.216 , -1.2159, ..., -0.3022, -0.3019, -0.3019])</pre></div></li><li class='xr-var-item'><div class='xr-var-name'><span>temperature_QC</span></div><div class='xr-var-dims'>(pressure)</div><div class='xr-var-dtype'>int16</div><div class='xr-var-preview xr-preview'>...</div><input id='attrs-2a3eb0a1-da53-4380-8518-c9d543e78e3f' class='xr-var-attrs-in' type='checkbox' ><label for='attrs-2a3eb0a1-da53-4380-8518-c9d543e78e3f' title='Show/Hide attributes'><svg class='icon xr-icon-file-text2'><use xlink:href='#icon-file-text2'></use></svg></label><input id='data-9cc040c0-c9f9-443f-8cec-94d4f5a9eabd' class='xr-var-data-in' type='checkbox'><label for='data-9cc040c0-c9f9-443f-8cec-94d4f5a9eabd' title='Show/Hide data repr'><svg class='icon xr-icon-database'><use xlink:href='#icon-database'></use></svg></label><div class='xr-var-attrs'><dl class='xr-attrs'><dt><span>long_name :</span></dt><dd>temperature_QC_flag</dd><dt><span>units :</span></dt><dd>woce_flags</dd><dt><span>C_format :</span></dt><dd>%1d</dd></dl></div><div class='xr-var-data'><pre>array([6, 2, 2, ..., 2, 2, 2], dtype=int16)</pre></div></li><li class='xr-var-item'><div class='xr-var-name'><span>salinity</span></div><div class='xr-var-dims'>(pressure)</div><div class='xr-var-dtype'>float64</div><div class='xr-var-preview xr-preview'>...</div><input id='attrs-13cf95c9-429b-4d77-94d8-90a58e1444b6' class='xr-var-attrs-in' type='checkbox' ><label for='attrs-13cf95c9-429b-4d77-94d8-90a58e1444b6' title='Show/Hide attributes'><svg class='icon xr-icon-file-text2'><use xlink:href='#icon-file-text2'></use></svg></label><input id='data-a5a1e529-a5cb-4b86-8413-6144da284fa3' class='xr-var-data-in' type='checkbox'><label for='data-a5a1e529-a5cb-4b86-8413-6144da284fa3' title='Show/Hide data repr'><svg class='icon xr-icon-database'><use xlink:href='#icon-database'></use></svg></label><div class='xr-var-attrs'><dl class='xr-attrs'><dt><span>long_name :</span></dt><dd>salinity</dd><dt><span>units :</span></dt><dd>PSS-78</dd><dt><span>data_min :</span></dt><dd>34.0119</dd><dt><span>data_max :</span></dt><dd>34.703</dd><dt><span>C_format :</span></dt><dd>%8.4f</dd><dt><span>WHPO_Variable_Name :</span></dt><dd>CTDSAL</dd><dt><span>OBS_QC_VARIABLE :</span></dt><dd>salinity_QC</dd></dl></div><div class='xr-var-data'><pre>array([34.0119, 34.0119, 34.012 , ..., 34.6536, 34.6536, 34.6536])</pre></div></li><li class='xr-var-item'><div class='xr-var-name'><span>salinity_QC</span></div><div class='xr-var-dims'>(pressure)</div><div class='xr-var-dtype'>int16</div><div class='xr-var-preview xr-preview'>...</div><input id='attrs-717c28b4-a5aa-480e-b8f7-37af987b6035' class='xr-var-attrs-in' type='checkbox' ><label for='attrs-717c28b4-a5aa-480e-b8f7-37af987b6035' title='Show/Hide attributes'><svg class='icon xr-icon-file-text2'><use xlink:href='#icon-file-text2'></use></svg></label><input id='data-a99c9b0b-2c32-45f6-b0d5-a33ee4faf3e8' class='xr-var-data-in' type='checkbox'><label for='data-a99c9b0b-2c32-45f6-b0d5-a33ee4faf3e8' title='Show/Hide data repr'><svg class='icon xr-icon-database'><use xlink:href='#icon-database'></use></svg></label><div class='xr-var-attrs'><dl class='xr-attrs'><dt><span>long_name :</span></dt><dd>salinity_QC_flag</dd><dt><span>units :</span></dt><dd>woce_flags</dd><dt><span>C_format :</span></dt><dd>%1d</dd></dl></div><div class='xr-var-data'><pre>array([6, 2, 2, ..., 2, 2, 2], dtype=int16)</pre></div></li><li class='xr-var-item'><div class='xr-var-name'><span>oxygen</span></div><div class='xr-var-dims'>(pressure)</div><div class='xr-var-dtype'>float64</div><div class='xr-var-preview xr-preview'>...</div><input id='attrs-5c18f5f3-d12c-4a82-9ef9-7e26b0d5acca' class='xr-var-attrs-in' type='checkbox' ><label for='attrs-5c18f5f3-d12c-4a82-9ef9-7e26b0d5acca' title='Show/Hide attributes'><svg class='icon xr-icon-file-text2'><use xlink:href='#icon-file-text2'></use></svg></label><input id='data-b37ac58c-d1cb-48ae-b33b-25ab73a87cca' class='xr-var-data-in' type='checkbox'><label for='data-b37ac58c-d1cb-48ae-b33b-25ab73a87cca' title='Show/Hide data repr'><svg class='icon xr-icon-database'><use xlink:href='#icon-database'></use></svg></label><div class='xr-var-attrs'><dl class='xr-attrs'><dt><span>long_name :</span></dt><dd>oxygen</dd><dt><span>units :</span></dt><dd>?mol/kg</dd><dt><span>data_min :</span></dt><dd>199.6209</dd><dt><span>data_max :</span></dt><dd>328.388</dd><dt><span>C_format :</span></dt><dd>%9.4f</dd><dt><span>WHPO_Variable_Name :</span></dt><dd>CTDOXY</dd><dt><span>OBS_QC_VARIABLE :</span></dt><dd>oxygen_QC</dd></dl></div><div class='xr-var-data'><pre>array([327.8633, 327.8633, 327.747 , ..., 240.5799, 240.6167, 240.5875])</pre></div></li><li class='xr-var-item'><div class='xr-var-name'><span>oxygen_QC</span></div><div class='xr-var-dims'>(pressure)</div><div class='xr-var-dtype'>int16</div><div class='xr-var-preview xr-preview'>...</div><input id='attrs-c18678cc-1783-485e-be29-85aa5b6901ec' class='xr-var-attrs-in' type='checkbox' ><label for='attrs-c18678cc-1783-485e-be29-85aa5b6901ec' title='Show/Hide attributes'><svg class='icon xr-icon-file-text2'><use xlink:href='#icon-file-text2'></use></svg></label><input id='data-84a8e361-8e72-4b57-87dc-1bcebc833a4e' class='xr-var-data-in' type='checkbox'><label for='data-84a8e361-8e72-4b57-87dc-1bcebc833a4e' title='Show/Hide data repr'><svg class='icon xr-icon-database'><use xlink:href='#icon-database'></use></svg></label><div class='xr-var-attrs'><dl class='xr-attrs'><dt><span>long_name :</span></dt><dd>oxygen_QC_flag</dd><dt><span>units :</span></dt><dd>woce_flags</dd><dt><span>C_format :</span></dt><dd>%1d</dd></dl></div><div class='xr-var-data'><pre>array([6, 2, 2, ..., 2, 2, 2], dtype=int16)</pre></div></li><li class='xr-var-item'><div class='xr-var-name'><span>CTDXMISS</span></div><div class='xr-var-dims'>(pressure)</div><div class='xr-var-dtype'>float64</div><div class='xr-var-preview xr-preview'>...</div><input id='attrs-81f701a3-ce5c-4f30-8c4d-684bb6c4722e' class='xr-var-attrs-in' type='checkbox' ><label for='attrs-81f701a3-ce5c-4f30-8c4d-684bb6c4722e' title='Show/Hide attributes'><svg class='icon xr-icon-file-text2'><use xlink:href='#icon-file-text2'></use></svg></label><input id='data-07a67382-414e-4d36-96a3-a6b909486df6' class='xr-var-data-in' type='checkbox'><label for='data-07a67382-414e-4d36-96a3-a6b909486df6' title='Show/Hide data repr'><svg class='icon xr-icon-database'><use xlink:href='#icon-database'></use></svg></label><div class='xr-var-attrs'><dl class='xr-attrs'><dt><span>long_name :</span></dt><dd>CTDXMISS</dd><dt><span>units :</span></dt><dd>0-5VDC</dd><dt><span>data_min :</span></dt><dd>4.5536</dd><dt><span>data_max :</span></dt><dd>4.6481</dd><dt><span>C_format :</span></dt><dd>%f</dd><dt><span>WHPO_Variable_Name :</span></dt><dd>CTDXMISS</dd><dt><span>OBS_QC_VARIABLE :</span></dt><dd>CTDXMISS_QC</dd></dl></div><div class='xr-var-data'><pre>array([4.554 , 4.554 , 4.554 , ..., 4.6341, 4.634 , 4.6339])</pre></div></li><li class='xr-var-item'><div class='xr-var-name'><span>CTDXMISS_QC</span></div><div class='xr-var-dims'>(pressure)</div><div class='xr-var-dtype'>int16</div><div class='xr-var-preview xr-preview'>...</div><input id='attrs-3fa0508c-b01b-4571-82ad-dd93c65119a1' class='xr-var-attrs-in' type='checkbox' ><label for='attrs-3fa0508c-b01b-4571-82ad-dd93c65119a1' title='Show/Hide attributes'><svg class='icon xr-icon-file-text2'><use xlink:href='#icon-file-text2'></use></svg></label><input id='data-a6634069-574e-4492-8ce8-f1035da66eab' class='xr-var-data-in' type='checkbox'><label for='data-a6634069-574e-4492-8ce8-f1035da66eab' title='Show/Hide data repr'><svg class='icon xr-icon-database'><use xlink:href='#icon-database'></use></svg></label><div class='xr-var-attrs'><dl class='xr-attrs'><dt><span>long_name :</span></dt><dd>CTDXMISS_QC_flag</dd><dt><span>units :</span></dt><dd>woce_flags</dd><dt><span>C_format :</span></dt><dd>%1d</dd></dl></div><div class='xr-var-data'><pre>array([6, 1, 1, ..., 1, 1, 1], dtype=int16)</pre></div></li><li class='xr-var-item'><div class='xr-var-name'><span>CTDFLUOR</span></div><div class='xr-var-dims'>(pressure)</div><div class='xr-var-dtype'>float64</div><div class='xr-var-preview xr-preview'>...</div><input id='attrs-8a49299a-1e1c-4891-869b-754446c857e3' class='xr-var-attrs-in' type='checkbox' ><label for='attrs-8a49299a-1e1c-4891-869b-754446c857e3' title='Show/Hide attributes'><svg class='icon xr-icon-file-text2'><use xlink:href='#icon-file-text2'></use></svg></label><input id='data-a1d538bb-3e40-4c51-bd34-1651832fb6a2' class='xr-var-data-in' type='checkbox'><label for='data-a1d538bb-3e40-4c51-bd34-1651832fb6a2' title='Show/Hide data repr'><svg class='icon xr-icon-database'><use xlink:href='#icon-database'></use></svg></label><div class='xr-var-attrs'><dl class='xr-attrs'><dt><span>long_name :</span></dt><dd>CTDFLUOR</dd><dt><span>units :</span></dt><dd>0-5VDC</dd><dt><span>data_min :</span></dt><dd>0.0607</dd><dt><span>data_max :</span></dt><dd>0.2753</dd><dt><span>C_format :</span></dt><dd>%f</dd><dt><span>WHPO_Variable_Name :</span></dt><dd>CTDFLUOR</dd><dt><span>OBS_QC_VARIABLE :</span></dt><dd>CTDFLUOR_QC</dd></dl></div><div class='xr-var-data'><pre>array([0.2707, 0.2707, 0.2693, ..., 0.0615, 0.0615, 0.0616])</pre></div></li><li class='xr-var-item'><div class='xr-var-name'><span>CTDFLUOR_QC</span></div><div class='xr-var-dims'>(pressure)</div><div class='xr-var-dtype'>int16</div><div class='xr-var-preview xr-preview'>...</div><input id='attrs-5aa8caa2-fb26-41d3-84e1-d8836919b0cf' class='xr-var-attrs-in' type='checkbox' ><label for='attrs-5aa8caa2-fb26-41d3-84e1-d8836919b0cf' title='Show/Hide attributes'><svg class='icon xr-icon-file-text2'><use xlink:href='#icon-file-text2'></use></svg></label><input id='data-bfe84e27-2e75-4bae-93db-79c81a3cf477' class='xr-var-data-in' type='checkbox'><label for='data-bfe84e27-2e75-4bae-93db-79c81a3cf477' title='Show/Hide data repr'><svg class='icon xr-icon-database'><use xlink:href='#icon-database'></use></svg></label><div class='xr-var-attrs'><dl class='xr-attrs'><dt><span>long_name :</span></dt><dd>CTDFLUOR_QC_flag</dd><dt><span>units :</span></dt><dd>woce_flags</dd><dt><span>C_format :</span></dt><dd>%1d</dd></dl></div><div class='xr-var-data'><pre>array([6, 1, 1, ..., 1, 1, 1], dtype=int16)</pre></div></li><li class='xr-var-item'><div class='xr-var-name'><span>CTDBBP700RAW</span></div><div class='xr-var-dims'>(pressure)</div><div class='xr-var-dtype'>float64</div><div class='xr-var-preview xr-preview'>0.2261 0.2261 ... 0.1442 0.1452</div><input id='attrs-ebb65878-3b8b-4ef6-a274-31d09050f0ee' class='xr-var-attrs-in' type='checkbox' ><label for='attrs-ebb65878-3b8b-4ef6-a274-31d09050f0ee' title='Show/Hide attributes'><svg class='icon xr-icon-file-text2'><use xlink:href='#icon-file-text2'></use></svg></label><input id='data-561f68f9-e815-4cae-9f4c-50393c1c9bf7' class='xr-var-data-in' type='checkbox'><label for='data-561f68f9-e815-4cae-9f4c-50393c1c9bf7' title='Show/Hide data repr'><svg class='icon xr-icon-database'><use xlink:href='#icon-database'></use></svg></label><div class='xr-var-attrs'><dl class='xr-attrs'><dt><span>long_name :</span></dt><dd>CTDBBP700RAW</dd><dt><span>units :</span></dt><dd>0-5VDC</dd><dt><span>data_min :</span></dt><dd>0.1245</dd><dt><span>data_max :</span></dt><dd>0.2985</dd><dt><span>C_format :</span></dt><dd>%f</dd><dt><span>WHPO_Variable_Name :</span></dt><dd>CTDBBP700RAW</dd><dt><span>OBS_QC_VARIABLE :</span></dt><dd>CTDBBP700RAW_QC</dd></dl></div><div class='xr-var-data'><pre>array([0.2261, 0.2261, 0.2274, ..., 0.1444, 0.1442, 0.1452])</pre></div></li><li class='xr-var-item'><div class='xr-var-name'><span>CTDBBP700RAW_QC</span></div><div class='xr-var-dims'>(pressure)</div><div class='xr-var-dtype'>int16</div><div class='xr-var-preview xr-preview'>...</div><input id='attrs-dca31f78-b0a4-412b-b02f-2fe6cfbeeecd' class='xr-var-attrs-in' type='checkbox' ><label for='attrs-dca31f78-b0a4-412b-b02f-2fe6cfbeeecd' title='Show/Hide attributes'><svg class='icon xr-icon-file-text2'><use xlink:href='#icon-file-text2'></use></svg></label><input id='data-625f53a3-9be3-4d48-aa19-f04c53988141' class='xr-var-data-in' type='checkbox'><label for='data-625f53a3-9be3-4d48-aa19-f04c53988141' title='Show/Hide data repr'><svg class='icon xr-icon-database'><use xlink:href='#icon-database'></use></svg></label><div class='xr-var-attrs'><dl class='xr-attrs'><dt><span>long_name :</span></dt><dd>CTDBBP700RAW_QC_flag</dd><dt><span>units :</span></dt><dd>woce_flags</dd><dt><span>C_format :</span></dt><dd>%1d</dd></dl></div><div class='xr-var-data'><pre>array([6, 1, 1, ..., 1, 1, 1], dtype=int16)</pre></div></li><li class='xr-var-item'><div class='xr-var-name'><span>woce_date</span></div><div class='xr-var-dims'>(time)</div><div class='xr-var-dtype'>int32</div><div class='xr-var-preview xr-preview'>...</div><input id='attrs-1a5b2bd3-9892-41f8-8722-61f8444f072c' class='xr-var-attrs-in' type='checkbox' ><label for='attrs-1a5b2bd3-9892-41f8-8722-61f8444f072c' title='Show/Hide attributes'><svg class='icon xr-icon-file-text2'><use xlink:href='#icon-file-text2'></use></svg></label><input id='data-a0a33eab-1b69-4195-899f-f73e8fa02c34' class='xr-var-data-in' type='checkbox'><label for='data-a0a33eab-1b69-4195-899f-f73e8fa02c34' title='Show/Hide data repr'><svg class='icon xr-icon-database'><use xlink:href='#icon-database'></use></svg></label><div class='xr-var-attrs'><dl class='xr-attrs'><dt><span>long_name :</span></dt><dd>WOCE date</dd><dt><span>units :</span></dt><dd>yyyymmdd UTC</dd><dt><span>data_min :</span></dt><dd>20190417</dd><dt><span>data_max :</span></dt><dd>20190417</dd><dt><span>C_format :</span></dt><dd>%8d</dd></dl></div><div class='xr-var-data'><pre>array([20190417], dtype=int32)</pre></div></li><li class='xr-var-item'><div class='xr-var-name'><span>woce_time</span></div><div class='xr-var-dims'>(time)</div><div class='xr-var-dtype'>int16</div><div class='xr-var-preview xr-preview'>...</div><input id='attrs-3dc3eab0-81af-4c90-95ec-e7c1e4e24877' class='xr-var-attrs-in' type='checkbox' ><label for='attrs-3dc3eab0-81af-4c90-95ec-e7c1e4e24877' title='Show/Hide attributes'><svg class='icon xr-icon-file-text2'><use xlink:href='#icon-file-text2'></use></svg></label><input id='data-6d7b32f1-b419-4af0-9ee0-b3ad1e070ff2' class='xr-var-data-in' type='checkbox'><label for='data-6d7b32f1-b419-4af0-9ee0-b3ad1e070ff2' title='Show/Hide data repr'><svg class='icon xr-icon-database'><use xlink:href='#icon-database'></use></svg></label><div class='xr-var-attrs'><dl class='xr-attrs'><dt><span>long_name :</span></dt><dd>WOCE time</dd><dt><span>units :</span></dt><dd>hhmm UTC</dd><dt><span>data_min :</span></dt><dd>2149</dd><dt><span>data_max :</span></dt><dd>2149</dd><dt><span>C_format :</span></dt><dd>%4d</dd></dl></div><div class='xr-var-data'><pre>array([2149], dtype=int16)</pre></div></li><li class='xr-var-item'><div class='xr-var-name'><span>station</span></div><div class='xr-var-dims'>()</div><div class='xr-var-dtype'>|S40</div><div class='xr-var-preview xr-preview'>...</div><input id='attrs-43eff440-2020-4f7a-92d6-c39753a15f89' class='xr-var-attrs-in' type='checkbox' ><label for='attrs-43eff440-2020-4f7a-92d6-c39753a15f89' title='Show/Hide attributes'><svg class='icon xr-icon-file-text2'><use xlink:href='#icon-file-text2'></use></svg></label><input id='data-df786ca6-653d-41eb-b0d9-48dd37c8e2ee' class='xr-var-data-in' type='checkbox'><label for='data-df786ca6-653d-41eb-b0d9-48dd37c8e2ee' title='Show/Hide data repr'><svg class='icon xr-icon-database'><use xlink:href='#icon-database'></use></svg></label><div class='xr-var-attrs'><dl class='xr-attrs'><dt><span>long_name :</span></dt><dd>STATION</dd><dt><span>units :</span></dt><dd>unspecified</dd><dt><span>C_format :</span></dt><dd>%s</dd></dl></div><div class='xr-var-data'><pre>array(b&#x27;11                                      &#x27;, dtype=&#x27;|S40&#x27;)</pre></div></li><li class='xr-var-item'><div class='xr-var-name'><span>cast</span></div><div class='xr-var-dims'>()</div><div class='xr-var-dtype'>|S40</div><div class='xr-var-preview xr-preview'>...</div><input id='attrs-797446ce-0384-465e-97f8-ac84c792578a' class='xr-var-attrs-in' type='checkbox' ><label for='attrs-797446ce-0384-465e-97f8-ac84c792578a' title='Show/Hide attributes'><svg class='icon xr-icon-file-text2'><use xlink:href='#icon-file-text2'></use></svg></label><input id='data-20cee8f4-4637-4a64-a259-ca8dca94287e' class='xr-var-data-in' type='checkbox'><label for='data-20cee8f4-4637-4a64-a259-ca8dca94287e' title='Show/Hide data repr'><svg class='icon xr-icon-database'><use xlink:href='#icon-database'></use></svg></label><div class='xr-var-attrs'><dl class='xr-attrs'><dt><span>long_name :</span></dt><dd>CAST</dd><dt><span>units :</span></dt><dd>unspecified</dd><dt><span>C_format :</span></dt><dd>%s</dd></dl></div><div class='xr-var-data'><pre>array(b&#x27;1                                       &#x27;, dtype=&#x27;|S40&#x27;)</pre></div></li></ul></div></li><li class='xr-section-item'><input id='section-f671b9b3-1728-4fb2-af33-f01596e9162f' class='xr-section-summary-in' type='checkbox'  ><label for='section-f671b9b3-1728-4fb2-af33-f01596e9162f' class='xr-section-summary' >Attributes: <span>(11)</span></label><div class='xr-section-inline-details'></div><div class='xr-section-details'><dl class='xr-attrs'><dt><span>EXPOCODE :</span></dt><dd>325020190403</dd><dt><span>Conventions :</span></dt><dd>COARDS/WOCE</dd><dt><span>WOCE_VERSION :</span></dt><dd>3.0</dd><dt><span>WOCE_ID :</span></dt><dd>I06S</dd><dt><span>DATA_TYPE :</span></dt><dd>WOCE CTD</dd><dt><span>STATION_NUMBER :</span></dt><dd>11</dd><dt><span>CAST_NUMBER :</span></dt><dd>1</dd><dt><span>BOTTOM_DEPTH_METERS :</span></dt><dd>4182</dd><dt><span>Creation_Time :</span></dt><dd>2019-06-28T16:39:30.204264Z</dd><dt><span>ORIGINAL_HEADER :</span></dt><dd>CTD,20190628CCHSIO\n",
       "# SHIP: Thomas G. Thompson\n",
       "# Cruise: I06S\n",
       "# DATES: 20190403 to 20190514\n",
       "# Region: Southern Indian Ocean\n",
       "# Chief Scientist: Alejandro Orsi.  Co-Chief Scientist: Isabella Rosso\n",
       "# CTDO: Who - S.Becker/SIO, J.Swift/SIO; Status - PRELIMINARY \n",
       "#         Includes CTDSAL, CTDOXY\n",
       "# Transmissometer (CTDXMISS): Who - W.Gardner, TAMU; Status - PRELIMINARY\n",
       "#        Instrument: Wetlabs C-Star Transmissometer, SN:   \n",
       "# Chlorophyll Fluorometer (CTDFLUOR): Who - E.Boss, UMaine; Status - PRELIMINARY\n",
       "#        Instrument: Wetlabs FLBBRTD, SN:FLBBRTD-3698\n",
       "#        Dark cast stn-cst:  015-01\n",
       "# Backscatter (CTDBBP700RAW): Who - E.Boss, UMaine; Status - PRELIMINARY\n",
       "#        Instrument: Wetlabs FLBBRTD, SN:FLBBRTD-3698\n",
       "#        Dark cast stn-cst:  015-01\n",
       "# References:\n",
       "#        Cruise report available at http://cchdo.ucsd.edu/cruise/325020190403\n",
       "#\n",
       "# Following American Geophysical Union recommendations, the data should be\n",
       "# cited as: &quot;data provider(s), cruise name or cruise ID, data file name(s),\n",
       "# CLIVAR and Carbon Hydrographic Data Office, La Jolla, CA, USA, and data\n",
       "# file date.&quot; For further information, please contact one of the parties\n",
       "# listed above or cchdo@ucsd.edu. Users are also requested to acknowledge\n",
       "# the NSF/NOAA-funded U.S. Repeat Hydrography Program in publications resulting\n",
       "# from their use.\n",
       "# \n",
       "# EVENT_CODE = unknown\n",
       "# DEPTH_TYPE = unknown\n",
       "# DEPTH_UNITS = meters\n",
       "# LATITUDE_UNITS = degrees_North\n",
       "# LONGITUDE_UNITS = degrees_East\n",
       "# DATE_UNITS: YYYYMMDD\n",
       "# TIME_UNITS = HHMM\n",
       "# STNNBR and CASTNO: removed leading 0s from values to match bottle file.\n",
       "# CTDBBP700RAW: Changed parameter name from CTDBACKSCATTER to CTDBBP700RAW\n",
       "# CTDBBP700RAW_FLAG_W: Changed parameter name from CTDBACKSCATTER_FLAG_W to CTDBBP700RAW_FLAG_W\n",
       "# Original file name: 01101_ct1.csv \n",
       "# CTD,20190512ODFSIO - Previous Time Stamp.\n",
       "</dd><dt><span>WOCE_CTD_FLAG_DESCRIPTION :</span></dt><dd>::1 = Not calibrated:2 = Acceptable measurement:3 = Questionable measurement:4 = Bad measurement:5 = Not reported:6 = Interpolated over &gt;2 dbar interval:7 = Despiked:8 = Not assigned for CTD data:9 = Not sampled:\n",
       "</dd></dl></div></li></ul></div></div>"
      ],
      "text/plain": [
       "<xarray.Dataset>\n",
       "Dimensions:          (latitude: 1, longitude: 1, pressure: 2073, time: 1)\n",
       "Coordinates:\n",
       "  * pressure         (pressure) float64 0.0 2.0 4.0 ... 4.142e+03 4.144e+03\n",
       "  * time             (time) datetime64[ns] 2019-04-17T21:49:00\n",
       "  * latitude         (latitude) float32 -66.99944\n",
       "  * longitude        (longitude) float32 30.0003\n",
       "Data variables:\n",
       "    pressure_QC      (pressure) int16 ...\n",
       "    temperature      (pressure) float64 ...\n",
       "    temperature_QC   (pressure) int16 ...\n",
       "    salinity         (pressure) float64 ...\n",
       "    salinity_QC      (pressure) int16 ...\n",
       "    oxygen           (pressure) float64 ...\n",
       "    oxygen_QC        (pressure) int16 ...\n",
       "    CTDXMISS         (pressure) float64 ...\n",
       "    CTDXMISS_QC      (pressure) int16 ...\n",
       "    CTDFLUOR         (pressure) float64 ...\n",
       "    CTDFLUOR_QC      (pressure) int16 ...\n",
       "    CTDBBP700RAW     (pressure) float64 0.2261 0.2261 0.2274 ... 0.1442 0.1452\n",
       "    CTDBBP700RAW_QC  (pressure) int16 ...\n",
       "    woce_date        (time) int32 ...\n",
       "    woce_time        (time) int16 ...\n",
       "    station          |S40 ...\n",
       "    cast             |S40 ...\n",
       "Attributes:\n",
       "    EXPOCODE:                   325020190403\n",
       "    Conventions:                COARDS/WOCE\n",
       "    WOCE_VERSION:               3.0\n",
       "    WOCE_ID:                    I06S\n",
       "    DATA_TYPE:                  WOCE CTD\n",
       "    STATION_NUMBER:             11\n",
       "    CAST_NUMBER:                1\n",
       "    BOTTOM_DEPTH_METERS:        4182\n",
       "    Creation_Time:              2019-06-28T16:39:30.204264Z\n",
       "    ORIGINAL_HEADER:            CTD,20190628CCHSIO\\n# SHIP: Thomas G. Thompso...\n",
       "    WOCE_CTD_FLAG_DESCRIPTION:  ::1 = Not calibrated:2 = Acceptable measureme..."
      ]
     },
     "execution_count": 57,
     "metadata": {},
     "output_type": "execute_result"
    }
   ],
   "source": [
    "cruise_dic[10]"
   ]
  },
  {
   "cell_type": "code",
   "execution_count": 9,
   "metadata": {},
   "outputs": [
    {
     "data": {
      "image/png": "[encoded data removed]",
      "text/plain": [
       "<Figure size 432x288 with 1 Axes>"
      ]
     },
     "metadata": {
      "needs_background": "light"
     },
     "output_type": "display_data"
    }
   ],
   "source": [
    "plt.plot(cruise_dic[10].CTDBBP700RAW, cruise_dic[10].pressure, '.')\n",
    "plt.plot(medfilt(cruise_dic[10].CTDBBP700RAW,5), cruise_dic[10].pressure)\n",
    "plt.plot(maximum_filter1d(minimum_filter1d(cruise_dic[10].CTDBBP700RAW,7),7), cruise_dic[10].pressure)\n",
    "plt.ylim(0,600)\n",
    "\n",
    "plt.gca().invert_yaxis()"
   ]
  },
  {
   "cell_type": "code",
   "execution_count": null,
   "metadata": {},
   "outputs": [],
   "source": []
  },
  {
   "cell_type": "code",
   "execution_count": 16,
   "metadata": {},
   "outputs": [],
   "source": [
    "# Float data \n",
    "HRdir = \"/Users/dhruvbalwada/OneDrive/sogos_data/data/raw/SOCCOM/manual_download/SOCCOM_HRQC_LIAR_netcdf_20191201/\"\n",
    "LRdir = \"/Users/dhruvbalwada/OneDrive/sogos_data/data/raw/SOCCOM/manual_download/SOCCOM_LRQC_LIAR_netcdf_20191201/\"\n",
    "\n",
    "float_dic_HR = xr.open_dataset(HRdir + str(12888) + \"SOOCN_HRQC.nc\")\n",
    "float_dic_LR = xr.open_dataset(LRdir + str(12888) + \"SOOCNQC.nc\")"
   ]
  },
  {
   "cell_type": "code",
   "execution_count": 25,
   "metadata": {},
   "outputs": [
    {
     "data": {
      "image/png": "[encoded data removed]",
      "text/plain": [
       "<Figure size 432x288 with 1 Axes>"
      ]
     },
     "metadata": {
      "needs_background": "light"
     },
     "output_type": "display_data"
    }
   ],
   "source": [
    "plt.plot(float_dic_LR.b_bp700.isel(N_PROF=0), float_dic_LR.Pressure.isel(N_PROF=0),'.')\n",
    "plt.plot(maximum_filter1d(minimum_filter1d(float_dic_LR.b_bp700.isel(N_PROF=0),7),7),\n",
    "         float_dic_LR.Pressure.isel(N_PROF=0))\n",
    "plt.ylim(0,1800)\n",
    "\n",
    "plt.gca().invert_yaxis()"
   ]
  },
  {
   "cell_type": "code",
   "execution_count": 30,
   "metadata": {},
   "outputs": [
    {
     "data": {
      "image/png": "[encoded data removed]",
      "text/plain": [
       "<Figure size 432x288 with 1 Axes>"
      ]
     },
     "metadata": {
      "needs_background": "light"
     },
     "output_type": "display_data"
    }
   ],
   "source": [
    "float_dic_LR.b_bp700.plot.hist(bins=41);"
   ]
  },
  {
   "cell_type": "code",
   "execution_count": 42,
   "metadata": {},
   "outputs": [],
   "source": [
    "lat = [cruise_dic[i].latitude.values for i in cruise_dic.keys() ]\n",
    "lon = [cruise_dic[i].longitude.values for i in cruise_dic.keys() ]"
   ]
  },
  {
   "cell_type": "code",
   "execution_count": 49,
   "metadata": {},
   "outputs": [
    {
     "data": {
      "image/png": "[encoded data removed]",
      "text/plain": [
       "<Figure size 432x288 with 1 Axes>"
      ]
     },
     "metadata": {
      "needs_background": "light"
     },
     "output_type": "display_data"
    }
   ],
   "source": [
    "plt.plot(lat,'.')\n",
    "plt.grid()"
   ]
  },
  {
   "cell_type": "code",
   "execution_count": 93,
   "metadata": {},
   "outputs": [
    {
     "data": {
      "text/plain": [
       "(array([-51.99956], dtype=float32), array([-51.0003], dtype=float32))"
      ]
     },
     "execution_count": 93,
     "metadata": {},
     "output_type": "execute_result"
    }
   ],
   "source": [
    "lat[40], lat[42]"
   ]
  },
  {
   "cell_type": "code",
   "execution_count": 97,
   "metadata": {},
   "outputs": [],
   "source": [
    "bbp = [cruise_dic[i].CTDBBP700RAW.values for i in range(40,43)]\n",
    "pres = [cruise_dic[i].pressure.values for i in range(40,43)]"
   ]
  },
  {
   "cell_type": "code",
   "execution_count": 98,
   "metadata": {},
   "outputs": [
    {
     "data": {
      "text/plain": [
       "[array([0.000e+00, 2.000e+00, 4.000e+00, ..., 4.558e+03, 4.560e+03,\n",
       "        4.562e+03]),\n",
       " array([0.000e+00, 2.000e+00, 4.000e+00, ..., 4.318e+03, 4.320e+03,\n",
       "        4.322e+03]),\n",
       " array([0.000e+00, 2.000e+00, 4.000e+00, ..., 5.836e+03, 5.838e+03,\n",
       "        5.840e+03])]"
      ]
     },
     "execution_count": 98,
     "metadata": {},
     "output_type": "execute_result"
    }
   ],
   "source": [
    "pres"
   ]
  },
  {
   "cell_type": "code",
   "execution_count": 99,
   "metadata": {},
   "outputs": [],
   "source": [
    "pres_upper = np.array([])\n",
    "bbp_upper = np.array([])\n",
    "for i in range(len(bbp)): \n",
    "    pres_upper = np.append(pres_upper, pres[i][pres[i]<600])\n",
    "    bbp_upper = np.append(bbp_upper, bbp[i][pres[i]<600])"
   ]
  },
  {
   "cell_type": "code",
   "execution_count": 100,
   "metadata": {},
   "outputs": [
    {
     "data": {
      "image/png": "[encoded data removed]",
      "text/plain": [
       "<Figure size 432x288 with 1 Axes>"
      ]
     },
     "metadata": {
      "needs_background": "light"
     },
     "output_type": "display_data"
    }
   ],
   "source": [
    "plt.plot(bbp_upper, pres_upper,'.')\n",
    "plt.gca().invert_yaxis()"
   ]
  },
  {
   "cell_type": "code",
   "execution_count": 101,
   "metadata": {},
   "outputs": [],
   "source": [
    "float_bbp_upper = float_dic_LR.b_bp700.where(float_dic_LR.Pressure<600, drop=True).isel(N_PROF=slice(0,4))\n",
    "float_pres_upper = float_dic_LR.Pressure.where(float_dic_LR.Pressure<600, drop=True).isel(N_PROF=slice(0,4))"
   ]
  },
  {
   "cell_type": "code",
   "execution_count": 117,
   "metadata": {},
   "outputs": [
    {
     "data": {
      "text/plain": [
       "(0.0004, 0.0012)"
      ]
     },
     "execution_count": 117,
     "metadata": {},
     "output_type": "execute_result"
    },
    {
     "data": {
      "image/png": "[encoded data removed]",
      "text/plain": [
       "<Figure size 432x288 with 1 Axes>"
      ]
     },
     "metadata": {
      "needs_background": "light"
     },
     "output_type": "display_data"
    }
   ],
   "source": [
    "plt.plot(bbp_upper/280, pres_upper,'.')\n",
    "\n",
    "plt.plot(float_bbp_upper.values, float_pres_upper.values,'.');\n",
    "plt.gca().invert_yaxis()\n",
    "plt.xlim([0.0004, 0.0012])"
   ]
  },
  {
   "cell_type": "code",
   "execution_count": 118,
   "metadata": {},
   "outputs": [
    {
     "data": {
      "text/plain": [
       "{'units': '1/m'}"
      ]
     },
     "execution_count": 118,
     "metadata": {},
     "output_type": "execute_result"
    }
   ],
   "source": [
    "float_dic_LR.b_bp700.attrs"
   ]
  },
  {
   "cell_type": "code",
   "execution_count": null,
   "metadata": {},
   "outputs": [],
   "source": []
  }
 ],
 "metadata": {
  "kernelspec": {
   "display_name": "Python [conda env:sogos]",
   "language": "python",
   "name": "conda-env-sogos-py"
  },
  "language_info": {
   "codemirror_mode": {
    "name": "ipython",
    "version": 3
   },
   "file_extension": ".py",
   "mimetype": "text/x-python",
   "name": "python",
   "nbconvert_exporter": "python",
   "pygments_lexer": "ipython3",
   "version": "3.7.9"
  }
 },
 "nbformat": 4,
 "nbformat_minor": 4
}
